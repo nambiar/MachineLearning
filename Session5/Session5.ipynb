{
  "nbformat": 4,
  "nbformat_minor": 0,
  "metadata": {
    "colab": {
      "name": "Session5.ipynb",
      "version": "0.3.2",
      "provenance": [],
      "collapsed_sections": [],
      "include_colab_link": true
    },
    "kernelspec": {
      "name": "python3",
      "display_name": "Python 3"
    },
    "accelerator": "GPU"
  },
  "cells": [
    {
      "cell_type": "markdown",
      "metadata": {
        "id": "view-in-github",
        "colab_type": "text"
      },
      "source": [
        "<a href=\"https://colab.research.google.com/github/nambiar/MachineLearning/blob/master/Session5/Session5.ipynb\" target=\"_parent\"><img src=\"https://colab.research.google.com/assets/colab-badge.svg\" alt=\"Open In Colab\"/></a>"
      ]
    },
    {
      "cell_type": "code",
      "metadata": {
        "id": "0SJyVpgSxHt4",
        "colab_type": "code",
        "colab": {
          "base_uri": "https://localhost:8080/",
          "height": 35
        },
        "outputId": "390997a8-ef60-410b-9f62-3e805da088dd"
      },
      "source": [
        "import numpy as np\n",
        "\n",
        "from keras.models import Sequential\n",
        "from keras.layers import Dense, Dropout, Activation, Flatten, Add, BatchNormalization\n",
        "from keras.layers import Convolution2D, MaxPooling2D\n",
        "from keras.utils import np_utils\n",
        "import matplotlib.pyplot as plt\n",
        "from keras.datasets import mnist\n",
        "#importing image normalisation class\n",
        "from keras.preprocessing.image import ImageDataGenerator\n",
        "from keras import regularizers"
      ],
      "execution_count": 2,
      "outputs": [
        {
          "output_type": "stream",
          "text": [
            "Using TensorFlow backend.\n"
          ],
          "name": "stderr"
        }
      ]
    },
    {
      "cell_type": "markdown",
      "metadata": {
        "id": "hnS6UgXxD-cT",
        "colab_type": "text"
      },
      "source": [
        "Usage of ImageDataGenerator class for Image normalisation\n",
        "Load the dataset, configure the class, calculate image properties ,fit the model using generator & evaluate generator\n",
        "pixel scaling using Imagedate generator class, Pixel Normalization, Pixel Centering, pixel standarisation\n",
        "create and configure the data generator\n"
      ]
    },
    {
      "cell_type": "code",
      "metadata": {
        "id": "YlEUplvoxKAT",
        "colab_type": "code",
        "outputId": "fef84cf7-72ac-4949-a04a-1388ab56bb67",
        "colab": {
          "base_uri": "https://localhost:8080/",
          "height": 121
        }
      },
      "source": [
        "(X_train, y_train), (X_test, y_test) = mnist.load_data()\n",
        "print('Train', X_train.shape, y_train.shape)\n",
        "print('Test', X_test.shape, y_test.shape)\n",
        "print('Train', X_train.min(), X_train.max(), X_train.mean(), X_train.std())\n",
        "print('Test', X_test.min(), X_test.max(), X_test.mean(), X_test.std())\n"
      ],
      "execution_count": 3,
      "outputs": [
        {
          "output_type": "stream",
          "text": [
            "Downloading data from https://s3.amazonaws.com/img-datasets/mnist.npz\n",
            "11493376/11490434 [==============================] - 0s 0us/step\n",
            "Train (60000, 28, 28) (60000,)\n",
            "Test (10000, 28, 28) (10000,)\n",
            "Train 0 255 33.318421449829934 78.56748998339798\n",
            "Test 0 255 33.791224489795916 79.17246322228644\n"
          ],
          "name": "stdout"
        }
      ]
    },
    {
      "cell_type": "code",
      "metadata": {
        "id": "I6Y9Va-xxMXG",
        "colab_type": "code",
        "outputId": "ccd13a84-7b0e-4840-fd02-a97b32bed631",
        "colab": {
          "base_uri": "https://localhost:8080/",
          "height": 304
        }
      },
      "source": [
        "print (X_train.shape)\n",
        "from matplotlib import pyplot as plt\n",
        "%matplotlib inline\n",
        "plt.imshow(X_train[1])\n"
      ],
      "execution_count": 4,
      "outputs": [
        {
          "output_type": "stream",
          "text": [
            "(60000, 28, 28)\n"
          ],
          "name": "stdout"
        },
        {
          "output_type": "execute_result",
          "data": {
            "text/plain": [
              "<matplotlib.image.AxesImage at 0x7f454a6a7630>"
            ]
          },
          "metadata": {
            "tags": []
          },
          "execution_count": 4
        },
        {
          "output_type": "display_data",
          "data": {
            "image/png": "[encoded data removed]",
            "text/plain": [
              "<Figure size 432x288 with 1 Axes>"
            ]
          },
          "metadata": {
            "tags": []
          }
        }
      ]
    },
    {
      "cell_type": "code",
      "metadata": {
        "id": "lxDZxPhhxOgO",
        "colab_type": "code",
        "outputId": "94f14d0c-4408-49a4-a8d4-afd08755cb4f",
        "colab": {
          "base_uri": "https://localhost:8080/",
          "height": 35
        }
      },
      "source": [
        "X_train = X_train.reshape(X_train.shape[0], 28, 28,1)\n",
        "X_test = X_test.reshape(X_test.shape[0], 28, 28,1)\n",
        "print (X_train.shape)\n",
        "#plt.figure(figsize=[5,5])\n",
        "\n",
        "\n",
        "           \n",
        "\n",
        "\n"
      ],
      "execution_count": 5,
      "outputs": [
        {
          "output_type": "stream",
          "text": [
            "(60000, 28, 28, 1)\n"
          ],
          "name": "stdout"
        }
      ]
    },
    {
      "cell_type": "code",
      "metadata": {
        "id": "3HzMqbTnxQQW",
        "colab_type": "code",
        "colab": {}
      },
      "source": [
        "X_train = X_train.astype('float32')\n",
        "X_test = X_test.astype('float32')\n",
        "#X_train /= 255\n",
        "#X_test /= 255"
      ],
      "execution_count": 0,
      "outputs": []
    },
    {
      "cell_type": "code",
      "metadata": {
        "id": "7LdYiW6ixR9e",
        "colab_type": "code",
        "outputId": "45d4cf56-7198-4a42-b72a-72b3d515e793",
        "colab": {
          "base_uri": "https://localhost:8080/",
          "height": 87
        }
      },
      "source": [
        "# Find the unique numbers from the train labels\n",
        "classes = np.unique(y_train)\n",
        "nClasses = len(classes)\n",
        "print('Total number of outputs : ', nClasses)\n",
        "print('Output classes : ', classes)\n",
        "y_train[:10]\n",
        "plt\n",
        "Y_train = np_utils.to_categorical(y_train)\n",
        "Y_test = np_utils.to_categorical(y_test)\n",
        "print('Original label:', y_train[0])\n",
        "print('After conversion to one-hot:', Y_train[0])"
      ],
      "execution_count": 8,
      "outputs": [
        {
          "output_type": "stream",
          "text": [
            "Total number of outputs :  10\n",
            "Output classes :  [0 1 2 3 4 5 6 7 8 9]\n",
            "Original label: 5\n",
            "After conversion to one-hot: [0. 0. 0. 0. 0. 1. 0. 0. 0. 0.]\n"
          ],
          "name": "stdout"
        }
      ]
    },
    {
      "cell_type": "code",
      "metadata": {
        "id": "rFR0F9j0xVp2",
        "colab_type": "code",
        "outputId": "96c361bb-dbe9-42bb-d4a6-113ff991b41b",
        "colab": {
          "base_uri": "https://localhost:8080/",
          "height": 191
        }
      },
      "source": [
        "Y_train[:10]"
      ],
      "execution_count": 9,
      "outputs": [
        {
          "output_type": "execute_result",
          "data": {
            "text/plain": [
              "array([[0., 0., 0., 0., 0., 1., 0., 0., 0., 0.],\n",
              "       [1., 0., 0., 0., 0., 0., 0., 0., 0., 0.],\n",
              "       [0., 0., 0., 0., 1., 0., 0., 0., 0., 0.],\n",
              "       [0., 1., 0., 0., 0., 0., 0., 0., 0., 0.],\n",
              "       [0., 0., 0., 0., 0., 0., 0., 0., 0., 1.],\n",
              "       [0., 0., 1., 0., 0., 0., 0., 0., 0., 0.],\n",
              "       [0., 1., 0., 0., 0., 0., 0., 0., 0., 0.],\n",
              "       [0., 0., 0., 1., 0., 0., 0., 0., 0., 0.],\n",
              "       [0., 1., 0., 0., 0., 0., 0., 0., 0., 0.],\n",
              "       [0., 0., 0., 0., 1., 0., 0., 0., 0., 0.]], dtype=float32)"
            ]
          },
          "metadata": {
            "tags": []
          },
          "execution_count": 9
        }
      ]
    },
    {
      "cell_type": "code",
      "metadata": {
        "id": "F_NXcRTN7L0Q",
        "colab_type": "code",
        "outputId": "b0bc0a9f-f954-49f9-e8e4-d5c9ec8d8e05",
        "colab": {
          "base_uri": "https://localhost:8080/",
          "height": 87
        }
      },
      "source": [
        "# confirm scale of pixels\n",
        "print('Train min=%.3f, max=%.3f' % (X_train.min(), X_train.max()))\n",
        "print('Test min=%.3f, max=%.3f' % (X_test.min(), X_test.max()))\n",
        "#Rescaling argument to a ratio by which each pixel can be multiplied to achieve [1 -255] range so 1/255.\n",
        "# create generator with rescaling factor(1.0/255.0 = 0.003921568627451)\n",
        "imagenormalize = ImageDataGenerator(featurewise_center=True, featurewise_std_normalization=True)\n",
        "# calculate the mean on the training dataset\n",
        "imagenormalize.fit(X_train)\n",
        "print('Data Generator mean=%.3f, std=%.3f' % (imagenormalize.mean, imagenormalize.std))\n",
        "#iterators for using the normalisation on all the images in test and train datasets with epoch's\n",
        "X_train_iterator = imagenormalize.flow(X_train, Y_train, batch_size=64)\n",
        "X_test_iterator = imagenormalize.flow(X_test, Y_test, batch_size=64)\n",
        "#confimring normalisation works\n",
        "\n",
        "\n",
        "print('Batches train=%d, test=%d' % (len(X_train_iterator), len(X_test_iterator)))\n",
        "# confirm the scaling works\n",
        "#test_trainX, test_trainY = X_train_iterator.next()\n",
        "#print('Batch shape=%s, min=%.3f, max=%.3f, mean=%.3f, std=%.3f' % (test_trainX.shape, test_trainX.min(), test_trainX.max(),test_trainX.mean(), test_trainX.std()))\n",
        "# demonstrate effect on entire training dataset\n",
        "#iterator = imagenormalize.flow(X_train, Y_train, batch_size=len(X_train), shuffle=False)\n",
        "# get a batch\n",
        "#test_trainX, test_trainY = X_train_iterator.next()\n",
        "# pixel stats in the batch\n",
        "#print(test_trainX.shape, test_trainX.mean(), test_trainX.std())\n",
        "#Also adding the  l2 regularisation it reduces the accuracy from"
      ],
      "execution_count": 10,
      "outputs": [
        {
          "output_type": "stream",
          "text": [
            "Train min=0.000, max=255.000\n",
            "Test min=0.000, max=255.000\n",
            "Data Generator mean=33.318, std=78.567\n",
            "Batches train=938, test=157\n"
          ],
          "name": "stdout"
        }
      ]
    },
    {
      "cell_type": "code",
      "metadata": {
        "id": "mDpXf4YQxXRm",
        "colab_type": "code",
        "outputId": "ca03f958-eb7d-4873-b4b1-8b0f9a4bdd36",
        "colab": {
          "base_uri": "https://localhost:8080/",
          "height": 1528
        }
      },
      "source": [
        "from keras.layers import Activation\n",
        "model = Sequential()\n",
        "\n",
        " \n",
        "model.add(Convolution2D(16, 3, 3, activation='relu', input_shape=(28,28,1),kernel_regularizer=regularizers.l2(0.00001))) #26\n",
        "model.add(BatchNormalization())\n",
        "model.add(Dropout(0.1))\n",
        "\n",
        "model.add(Convolution2D(32, 3, 3, activation='relu',kernel_regularizer=regularizers.l2(0.00001))) #24\n",
        "model.add(BatchNormalization())\n",
        "model.add(Dropout(0.1))\n",
        "\n",
        "model.add(Convolution2D(10, 1, 1, activation='relu',kernel_regularizer=regularizers.l2(0.00001))) #22\n",
        "\n",
        "model.add(MaxPooling2D(pool_size=(2, 2)))#11\n",
        "\n",
        "model.add(Convolution2D(16, 3, 3, activation='relu',kernel_regularizer=regularizers.l2(0.00001)))#9\n",
        "model.add(BatchNormalization())\n",
        "model.add(Dropout(0.1))\n",
        "\n",
        "\n",
        "model.add(Convolution2D(16, 3, 3, activation='relu',kernel_regularizer=regularizers.l2(0.00001)))#7\n",
        "model.add(BatchNormalization())\n",
        "model.add(Dropout(0.1))\n",
        "\n",
        "\n",
        "model.add(Convolution2D(16, 3, 3, activation='relu',kernel_regularizer=regularizers.l2(0.00001)))#5\n",
        "model.add(BatchNormalization())\n",
        "model.add(Dropout(0.1))\n",
        "\n",
        "\n",
        "model.add(Convolution2D(16, 3, 3, activation='relu',kernel_regularizer=regularizers.l2(0.00001)))#3\n",
        "model.add(BatchNormalization())\n",
        "model.add(Dropout(0.1))\n",
        "\n",
        "\n",
        "model.add(Convolution2D(10, 4, 4,kernel_regularizer=regularizers.l2(0.00001)))\n",
        "model.add(BatchNormalization())\n",
        "model.add(Dropout(0.1))\n",
        "\n",
        "\n",
        "model.add(Flatten())\n",
        "model.add(Activation('softmax'))\n",
        "\n",
        "\n",
        "model.summary()"
      ],
      "execution_count": 11,
      "outputs": [
        {
          "output_type": "stream",
          "text": [
            "WARNING: Logging before flag parsing goes to stderr.\n",
            "W0616 12:03:36.051872 139936721676160 deprecation_wrapper.py:119] From /usr/local/lib/python3.6/dist-packages/keras/backend/tensorflow_backend.py:74: The name tf.get_default_graph is deprecated. Please use tf.compat.v1.get_default_graph instead.\n",
            "\n",
            "/usr/local/lib/python3.6/dist-packages/ipykernel_launcher.py:5: UserWarning: Update your `Conv2D` call to the Keras 2 API: `Conv2D(16, (3, 3), activation=\"relu\", input_shape=(28, 28, 1..., kernel_regularizer=<keras.reg...)`\n",
            "  \"\"\"\n",
            "W0616 12:03:36.101297 139936721676160 deprecation_wrapper.py:119] From /usr/local/lib/python3.6/dist-packages/keras/backend/tensorflow_backend.py:517: The name tf.placeholder is deprecated. Please use tf.compat.v1.placeholder instead.\n",
            "\n",
            "W0616 12:03:36.110634 139936721676160 deprecation_wrapper.py:119] From /usr/local/lib/python3.6/dist-packages/keras/backend/tensorflow_backend.py:4138: The name tf.random_uniform is deprecated. Please use tf.random.uniform instead.\n",
            "\n",
            "W0616 12:03:36.162238 139936721676160 deprecation_wrapper.py:119] From /usr/local/lib/python3.6/dist-packages/keras/backend/tensorflow_backend.py:174: The name tf.get_default_session is deprecated. Please use tf.compat.v1.get_default_session instead.\n",
            "\n",
            "W0616 12:03:36.163210 139936721676160 deprecation_wrapper.py:119] From /usr/local/lib/python3.6/dist-packages/keras/backend/tensorflow_backend.py:181: The name tf.ConfigProto is deprecated. Please use tf.compat.v1.ConfigProto instead.\n",
            "\n",
            "W0616 12:03:39.013188 139936721676160 deprecation_wrapper.py:119] From /usr/local/lib/python3.6/dist-packages/keras/backend/tensorflow_backend.py:1834: The name tf.nn.fused_batch_norm is deprecated. Please use tf.compat.v1.nn.fused_batch_norm instead.\n",
            "\n",
            "W0616 12:03:39.091555 139936721676160 deprecation.py:506] From /usr/local/lib/python3.6/dist-packages/keras/backend/tensorflow_backend.py:3445: calling dropout (from tensorflow.python.ops.nn_ops) with keep_prob is deprecated and will be removed in a future version.\n",
            "Instructions for updating:\n",
            "Please use `rate` instead of `keep_prob`. Rate should be set to `rate = 1 - keep_prob`.\n",
            "/usr/local/lib/python3.6/dist-packages/ipykernel_launcher.py:9: UserWarning: Update your `Conv2D` call to the Keras 2 API: `Conv2D(32, (3, 3), activation=\"relu\", kernel_regularizer=<keras.reg...)`\n",
            "  if __name__ == '__main__':\n",
            "/usr/local/lib/python3.6/dist-packages/ipykernel_launcher.py:13: UserWarning: Update your `Conv2D` call to the Keras 2 API: `Conv2D(10, (1, 1), activation=\"relu\", kernel_regularizer=<keras.reg...)`\n",
            "  del sys.path[0]\n",
            "W0616 12:03:39.228878 139936721676160 deprecation_wrapper.py:119] From /usr/local/lib/python3.6/dist-packages/keras/backend/tensorflow_backend.py:3976: The name tf.nn.max_pool is deprecated. Please use tf.nn.max_pool2d instead.\n",
            "\n",
            "/usr/local/lib/python3.6/dist-packages/ipykernel_launcher.py:17: UserWarning: Update your `Conv2D` call to the Keras 2 API: `Conv2D(16, (3, 3), activation=\"relu\", kernel_regularizer=<keras.reg...)`\n",
            "/usr/local/lib/python3.6/dist-packages/ipykernel_launcher.py:22: UserWarning: Update your `Conv2D` call to the Keras 2 API: `Conv2D(16, (3, 3), activation=\"relu\", kernel_regularizer=<keras.reg...)`\n",
            "/usr/local/lib/python3.6/dist-packages/ipykernel_launcher.py:27: UserWarning: Update your `Conv2D` call to the Keras 2 API: `Conv2D(16, (3, 3), activation=\"relu\", kernel_regularizer=<keras.reg...)`\n",
            "/usr/local/lib/python3.6/dist-packages/ipykernel_launcher.py:32: UserWarning: Update your `Conv2D` call to the Keras 2 API: `Conv2D(16, (3, 3), activation=\"relu\", kernel_regularizer=<keras.reg...)`\n"
          ],
          "name": "stderr"
        },
        {
          "output_type": "stream",
          "text": [
            "_________________________________________________________________\n",
            "Layer (type)                 Output Shape              Param #   \n",
            "=================================================================\n",
            "conv2d_1 (Conv2D)            (None, 26, 26, 16)        160       \n",
            "_________________________________________________________________\n",
            "batch_normalization_1 (Batch (None, 26, 26, 16)        64        \n",
            "_________________________________________________________________\n",
            "dropout_1 (Dropout)          (None, 26, 26, 16)        0         \n",
            "_________________________________________________________________\n",
            "conv2d_2 (Conv2D)            (None, 24, 24, 32)        4640      \n",
            "_________________________________________________________________\n",
            "batch_normalization_2 (Batch (None, 24, 24, 32)        128       \n",
            "_________________________________________________________________\n",
            "dropout_2 (Dropout)          (None, 24, 24, 32)        0         \n",
            "_________________________________________________________________\n",
            "conv2d_3 (Conv2D)            (None, 24, 24, 10)        330       \n",
            "_________________________________________________________________\n",
            "max_pooling2d_1 (MaxPooling2 (None, 12, 12, 10)        0         \n",
            "_________________________________________________________________\n",
            "conv2d_4 (Conv2D)            (None, 10, 10, 16)        1456      \n",
            "_________________________________________________________________\n",
            "batch_normalization_3 (Batch (None, 10, 10, 16)        64        \n",
            "_________________________________________________________________\n",
            "dropout_3 (Dropout)          (None, 10, 10, 16)        0         \n",
            "_________________________________________________________________\n",
            "conv2d_5 (Conv2D)            (None, 8, 8, 16)          2320      \n",
            "_________________________________________________________________\n",
            "batch_normalization_4 (Batch (None, 8, 8, 16)          64        \n",
            "_________________________________________________________________\n",
            "dropout_4 (Dropout)          (None, 8, 8, 16)          0         \n",
            "_________________________________________________________________\n",
            "conv2d_6 (Conv2D)            (None, 6, 6, 16)          2320      \n",
            "_________________________________________________________________\n",
            "batch_normalization_5 (Batch (None, 6, 6, 16)          64        \n",
            "_________________________________________________________________\n",
            "dropout_5 (Dropout)          (None, 6, 6, 16)          0         \n",
            "_________________________________________________________________\n",
            "conv2d_7 (Conv2D)            (None, 4, 4, 16)          2320      \n",
            "_________________________________________________________________\n",
            "batch_normalization_6 (Batch (None, 4, 4, 16)          64        \n",
            "_________________________________________________________________\n",
            "dropout_6 (Dropout)          (None, 4, 4, 16)          0         \n",
            "_________________________________________________________________\n",
            "conv2d_8 (Conv2D)            (None, 1, 1, 10)          2570      \n",
            "_________________________________________________________________\n",
            "batch_normalization_7 (Batch (None, 1, 1, 10)          40        \n",
            "_________________________________________________________________\n",
            "dropout_7 (Dropout)          (None, 1, 1, 10)          0         \n",
            "_________________________________________________________________\n",
            "flatten_1 (Flatten)          (None, 10)                0         \n",
            "_________________________________________________________________\n",
            "activation_1 (Activation)    (None, 10)                0         \n",
            "=================================================================\n",
            "Total params: 16,604\n",
            "Trainable params: 16,360\n",
            "Non-trainable params: 244\n",
            "_________________________________________________________________\n"
          ],
          "name": "stdout"
        },
        {
          "output_type": "stream",
          "text": [
            "/usr/local/lib/python3.6/dist-packages/ipykernel_launcher.py:37: UserWarning: Update your `Conv2D` call to the Keras 2 API: `Conv2D(10, (4, 4), kernel_regularizer=<keras.reg...)`\n"
          ],
          "name": "stderr"
        }
      ]
    },
    {
      "cell_type": "code",
      "metadata": {
        "id": "L2IicGJ4x3Be",
        "colab_type": "code",
        "outputId": "3bc06aee-5b83-47af-f8d8-8bbe5fe8dbb0",
        "colab": {
          "base_uri": "https://localhost:8080/",
          "height": 3057
        }
      },
      "source": [
        "from keras.optimizers import Adam\n",
        "from keras.callbacks import LearningRateScheduler\n",
        "\n",
        "def scheduler(epoch, lr):\n",
        "  return round(0.003 * 1/(1 + 0.319 * epoch), 10)\n",
        "\n",
        "model.compile(loss='categorical_crossentropy', optimizer=Adam(lr=0.003), metrics=['accuracy'])\n",
        "modelparams = model.fit_generator(X_train_iterator, steps_per_epoch=len(X_train_iterator), epochs=40, verbose=1, validation_data=(X_test_iterator),validation_steps=len(X_test_iterator), callbacks=[LearningRateScheduler(scheduler, verbose=1)])\n",
        "\n",
        "training_accuracy = modelparams.history['acc']\n",
        "test_accuracy = modelparams.history['val_acc']\n",
        "# Create count of the number of epochs\n",
        "epoch_count = range(1, 41)\n",
        "\n",
        "# Visualize accuracy history\n",
        "plt.plot(epoch_count, training_accuracy, 'r--')\n",
        "plt.plot(epoch_count, test_accuracy, 'b-')\n",
        "plt.legend(['Training Accuracy', 'Test Accuracy'])\n",
        "plt.xlabel('Epoch')\n",
        "plt.ylabel('Accuracy Score')\n",
        "plt.show();\n",
        "\n",
        "# fit model with generator\n",
        "#model.fit_generator(X_train_iterator, steps_per_epoch=len(X_train_iterator), epochs=5)\n",
        "#model.fit(X_train_iterator, batch_size=128, epochs=20, verbose=1, validation_data=(X_test, Y_test), callbacks=[LearningRateScheduler(scheduler, verbose=1)])\n"
      ],
      "execution_count": 49,
      "outputs": [
        {
          "output_type": "stream",
          "text": [
            "Epoch 1/40\n",
            "\n",
            "Epoch 00001: LearningRateScheduler setting learning rate to 0.003.\n",
            "938/938 [==============================] - 17s 18ms/step - loss: 0.1215 - acc: 0.9497 - val_loss: 0.0312 - val_acc: 0.9924\n",
            "Epoch 2/40\n",
            "\n",
            "Epoch 00002: LearningRateScheduler setting learning rate to 0.0022744503.\n",
            "938/938 [==============================] - 14s 15ms/step - loss: 0.1148 - acc: 0.9520 - val_loss: 0.0290 - val_acc: 0.9933\n",
            "Epoch 3/40\n",
            "\n",
            "Epoch 00003: LearningRateScheduler setting learning rate to 0.0018315018.\n",
            "938/938 [==============================] - 15s 16ms/step - loss: 0.1084 - acc: 0.9539 - val_loss: 0.0311 - val_acc: 0.9937\n",
            "Epoch 4/40\n",
            "\n",
            "Epoch 00004: LearningRateScheduler setting learning rate to 0.0015329586.\n",
            "938/938 [==============================] - 14s 15ms/step - loss: 0.1085 - acc: 0.9517 - val_loss: 0.0273 - val_acc: 0.9947\n",
            "Epoch 5/40\n",
            "\n",
            "Epoch 00005: LearningRateScheduler setting learning rate to 0.0013181019.\n",
            "938/938 [==============================] - 14s 15ms/step - loss: 0.1070 - acc: 0.9539 - val_loss: 0.0286 - val_acc: 0.9952\n",
            "Epoch 6/40\n",
            "\n",
            "Epoch 00006: LearningRateScheduler setting learning rate to 0.0011560694.\n",
            "938/938 [==============================] - 14s 15ms/step - loss: 0.1028 - acc: 0.9557 - val_loss: 0.0257 - val_acc: 0.9951\n",
            "Epoch 7/40\n",
            "\n",
            "Epoch 00007: LearningRateScheduler setting learning rate to 0.0010295127.\n",
            "938/938 [==============================] - 14s 15ms/step - loss: 0.0979 - acc: 0.9569 - val_loss: 0.0295 - val_acc: 0.9941\n",
            "Epoch 8/40\n",
            "\n",
            "Epoch 00008: LearningRateScheduler setting learning rate to 0.0009279307.\n",
            "938/938 [==============================] - 14s 15ms/step - loss: 0.0997 - acc: 0.9567 - val_loss: 0.0304 - val_acc: 0.9939\n",
            "Epoch 9/40\n",
            "\n",
            "Epoch 00009: LearningRateScheduler setting learning rate to 0.0008445946.\n",
            "938/938 [==============================] - 15s 16ms/step - loss: 0.0956 - acc: 0.9576 - val_loss: 0.0282 - val_acc: 0.9946\n",
            "Epoch 10/40\n",
            "\n",
            "Epoch 00010: LearningRateScheduler setting learning rate to 0.0007749935.\n",
            "938/938 [==============================] - 15s 16ms/step - loss: 0.0976 - acc: 0.9554 - val_loss: 0.0285 - val_acc: 0.9936\n",
            "Epoch 11/40\n",
            "\n",
            "Epoch 00011: LearningRateScheduler setting learning rate to 0.0007159905.\n",
            "938/938 [==============================] - 15s 16ms/step - loss: 0.0960 - acc: 0.9568 - val_loss: 0.0283 - val_acc: 0.9941\n",
            "Epoch 12/40\n",
            "\n",
            "Epoch 00012: LearningRateScheduler setting learning rate to 0.000665336.\n",
            "938/938 [==============================] - 15s 16ms/step - loss: 0.0987 - acc: 0.9557 - val_loss: 0.0247 - val_acc: 0.9949\n",
            "Epoch 13/40\n",
            "\n",
            "Epoch 00013: LearningRateScheduler setting learning rate to 0.0006213753.\n",
            "938/938 [==============================] - 14s 15ms/step - loss: 0.0964 - acc: 0.9569 - val_loss: 0.0273 - val_acc: 0.9948\n",
            "Epoch 14/40\n",
            "\n",
            "Epoch 00014: LearningRateScheduler setting learning rate to 0.0005828638.\n",
            "938/938 [==============================] - 14s 15ms/step - loss: 0.0950 - acc: 0.9571 - val_loss: 0.0275 - val_acc: 0.9949\n",
            "Epoch 15/40\n",
            "\n",
            "Epoch 00015: LearningRateScheduler setting learning rate to 0.0005488474.\n",
            "938/938 [==============================] - 15s 16ms/step - loss: 0.0954 - acc: 0.9573 - val_loss: 0.0275 - val_acc: 0.9946\n",
            "Epoch 16/40\n",
            "\n",
            "Epoch 00016: LearningRateScheduler setting learning rate to 0.0005185825.\n",
            "938/938 [==============================] - 14s 15ms/step - loss: 0.0943 - acc: 0.9569 - val_loss: 0.0251 - val_acc: 0.9952\n",
            "Epoch 17/40\n",
            "\n",
            "Epoch 00017: LearningRateScheduler setting learning rate to 0.000491481.\n",
            "938/938 [==============================] - 14s 15ms/step - loss: 0.0916 - acc: 0.9585 - val_loss: 0.0254 - val_acc: 0.9952\n",
            "Epoch 18/40\n",
            "\n",
            "Epoch 00018: LearningRateScheduler setting learning rate to 0.0004670715.\n",
            "938/938 [==============================] - 14s 15ms/step - loss: 0.0903 - acc: 0.9594 - val_loss: 0.0255 - val_acc: 0.9951\n",
            "Epoch 19/40\n",
            "\n",
            "Epoch 00019: LearningRateScheduler setting learning rate to 0.0004449718.\n",
            "938/938 [==============================] - 14s 15ms/step - loss: 0.0926 - acc: 0.9584 - val_loss: 0.0246 - val_acc: 0.9953\n",
            "Epoch 20/40\n",
            "\n",
            "Epoch 00020: LearningRateScheduler setting learning rate to 0.000424869.\n",
            "938/938 [==============================] - 15s 15ms/step - loss: 0.0915 - acc: 0.9583 - val_loss: 0.0257 - val_acc: 0.9950\n",
            "Epoch 21/40\n",
            "\n",
            "Epoch 00021: LearningRateScheduler setting learning rate to 0.0004065041.\n",
            "938/938 [==============================] - 14s 15ms/step - loss: 0.0905 - acc: 0.9581 - val_loss: 0.0251 - val_acc: 0.9949\n",
            "Epoch 22/40\n",
            "\n",
            "Epoch 00022: LearningRateScheduler setting learning rate to 0.000389661.\n",
            "938/938 [==============================] - 14s 15ms/step - loss: 0.0921 - acc: 0.9586 - val_loss: 0.0250 - val_acc: 0.9944\n",
            "Epoch 23/40\n",
            "\n",
            "Epoch 00023: LearningRateScheduler setting learning rate to 0.0003741581.\n",
            "938/938 [==============================] - 14s 15ms/step - loss: 0.0902 - acc: 0.9585 - val_loss: 0.0248 - val_acc: 0.9948\n",
            "Epoch 24/40\n",
            "\n",
            "Epoch 00024: LearningRateScheduler setting learning rate to 0.0003598417.\n",
            "938/938 [==============================] - 15s 16ms/step - loss: 0.0882 - acc: 0.9591 - val_loss: 0.0247 - val_acc: 0.9954\n",
            "Epoch 25/40\n",
            "\n",
            "Epoch 00025: LearningRateScheduler setting learning rate to 0.0003465804.\n",
            "938/938 [==============================] - 14s 15ms/step - loss: 0.0878 - acc: 0.9600 - val_loss: 0.0239 - val_acc: 0.9954\n",
            "Epoch 26/40\n",
            "\n",
            "Epoch 00026: LearningRateScheduler setting learning rate to 0.0003342618.\n",
            "938/938 [==============================] - 14s 15ms/step - loss: 0.0864 - acc: 0.9605 - val_loss: 0.0247 - val_acc: 0.9954\n",
            "Epoch 27/40\n",
            "\n",
            "Epoch 00027: LearningRateScheduler setting learning rate to 0.0003227889.\n",
            "938/938 [==============================] - 14s 15ms/step - loss: 0.0892 - acc: 0.9580 - val_loss: 0.0239 - val_acc: 0.9953\n",
            "Epoch 28/40\n",
            "\n",
            "Epoch 00028: LearningRateScheduler setting learning rate to 0.0003120774.\n",
            "938/938 [==============================] - 14s 15ms/step - loss: 0.0868 - acc: 0.9599 - val_loss: 0.0269 - val_acc: 0.9946\n",
            "Epoch 29/40\n",
            "\n",
            "Epoch 00029: LearningRateScheduler setting learning rate to 0.000302054.\n",
            "938/938 [==============================] - 14s 15ms/step - loss: 0.0901 - acc: 0.9588 - val_loss: 0.0234 - val_acc: 0.9960\n",
            "Epoch 30/40\n",
            "\n",
            "Epoch 00030: LearningRateScheduler setting learning rate to 0.0002926544.\n",
            "938/938 [==============================] - 14s 15ms/step - loss: 0.0870 - acc: 0.9598 - val_loss: 0.0252 - val_acc: 0.9953\n",
            "Epoch 31/40\n",
            "\n",
            "Epoch 00031: LearningRateScheduler setting learning rate to 0.0002838221.\n",
            "938/938 [==============================] - 14s 15ms/step - loss: 0.0855 - acc: 0.9595 - val_loss: 0.0249 - val_acc: 0.9949\n",
            "Epoch 32/40\n",
            "\n",
            "Epoch 00032: LearningRateScheduler setting learning rate to 0.0002755074.\n",
            "938/938 [==============================] - 14s 15ms/step - loss: 0.0879 - acc: 0.9588 - val_loss: 0.0243 - val_acc: 0.9952\n",
            "Epoch 33/40\n",
            "\n",
            "Epoch 00033: LearningRateScheduler setting learning rate to 0.000267666.\n",
            "938/938 [==============================] - 14s 15ms/step - loss: 0.0855 - acc: 0.9599 - val_loss: 0.0244 - val_acc: 0.9955\n",
            "Epoch 34/40\n",
            "\n",
            "Epoch 00034: LearningRateScheduler setting learning rate to 0.0002602585.\n",
            "938/938 [==============================] - 14s 15ms/step - loss: 0.0881 - acc: 0.9581 - val_loss: 0.0243 - val_acc: 0.9960\n",
            "Epoch 35/40\n",
            "\n",
            "Epoch 00035: LearningRateScheduler setting learning rate to 0.00025325.\n",
            "938/938 [==============================] - 14s 15ms/step - loss: 0.0883 - acc: 0.9577 - val_loss: 0.0257 - val_acc: 0.9951\n",
            "Epoch 36/40\n",
            "\n",
            "Epoch 00036: LearningRateScheduler setting learning rate to 0.0002466091.\n",
            "938/938 [==============================] - 14s 15ms/step - loss: 0.0879 - acc: 0.9581 - val_loss: 0.0249 - val_acc: 0.9956\n",
            "Epoch 37/40\n",
            "\n",
            "Epoch 00037: LearningRateScheduler setting learning rate to 0.0002403076.\n",
            "938/938 [==============================] - 14s 15ms/step - loss: 0.0836 - acc: 0.9605 - val_loss: 0.0252 - val_acc: 0.9951\n",
            "Epoch 38/40\n",
            "\n",
            "Epoch 00038: LearningRateScheduler setting learning rate to 0.0002343201.\n",
            "938/938 [==============================] - 14s 15ms/step - loss: 0.0832 - acc: 0.9603 - val_loss: 0.0238 - val_acc: 0.9955\n",
            "Epoch 39/40\n",
            "\n",
            "Epoch 00039: LearningRateScheduler setting learning rate to 0.0002286237.\n",
            "938/938 [==============================] - 14s 15ms/step - loss: 0.0856 - acc: 0.9607 - val_loss: 0.0252 - val_acc: 0.9956\n",
            "Epoch 40/40\n",
            "\n",
            "Epoch 00040: LearningRateScheduler setting learning rate to 0.0002231977.\n",
            "938/938 [==============================] - 14s 15ms/step - loss: 0.0868 - acc: 0.9586 - val_loss: 0.0244 - val_acc: 0.9952\n"
          ],
          "name": "stdout"
        },
        {
          "output_type": "display_data",
          "data": {
            "image/png": "[encoded data removed]",
            "text/plain": [
              "<Figure size 432x288 with 1 Axes>"
            ]
          },
          "metadata": {
            "tags": []
          }
        }
      ]
    },
    {
      "cell_type": "markdown",
      "metadata": {
        "id": "Zlc8rYfhfgnn",
        "colab_type": "text"
      },
      "source": [
        "Actually L2 regularisation decreased Acuracy from 99.5 to 99.4 for 20 epoch's\n",
        "Putting L2 kernel regulariser as 0.0001 The accuracy does not increase but it converges slowly to 99.5 increased to 99.56 for 40 epoch's. Also increases training set , may be we need to write a rate ,l2 regularisation scheduler for each epoch\n",
        "\n"
      ]
    },
    {
      "cell_type": "code",
      "metadata": {
        "id": "WLxlW9ufyQiO",
        "colab_type": "code",
        "outputId": "6efcd2fe-2a4b-486e-b6f2-81a5442d6139",
        "colab": {
          "base_uri": "https://localhost:8080/",
          "height": 35
        }
      },
      "source": [
        "model.save(\"session.h5py\")\n",
        "score = model.evaluate_generator(X_test_iterator,steps=len(X_test_iterator),verbose=0)\n",
        "print(score)"
      ],
      "execution_count": 13,
      "outputs": [
        {
          "output_type": "stream",
          "text": [
            "[0.03079214204251766, 0.9918]\n"
          ],
          "name": "stdout"
        }
      ]
    },
    {
      "cell_type": "code",
      "metadata": {
        "id": "m2qDl21ozBnW",
        "colab_type": "code",
        "outputId": "be48f288-13e4-4992-b8ed-c3f21806b83f",
        "colab": {
          "base_uri": "https://localhost:8080/",
          "height": 349
        }
      },
      "source": [
        "#https://www.datacamp.com/community/tutorials/convolutional-neural-networks-python\n",
        "#Use this for misclassified images\n",
        "predicted_classes = model.predict_generator(X_test_iterator,steps = len(X_test_iterator))\n",
        "print (predicted_classes.shape)\n",
        "# predictions are floating point values,round off the output which will convert the float values into an integer. np.argmax() \n",
        "#to select the index number which has a higher value in a row.\n",
        "#predIdxs = np.argmax(predIdxs, axis=1)\n",
        "#predicted_classes = np.round(predicted_classes)\n",
        "predicted_classes = np.argmax(np.round(predicted_classes),axis=1)\n",
        "test_classes = np.argmax(np.round(Y_test),axis =1)\n",
        "print (predicted_classes.shape,test_classes.shape) #, \n",
        "correct = np.where(predicted_classes==test_classes)[0]\n",
        "#print(correct)\n",
        "print (\"Found %d correct labels\"%len(correct))\n",
        "for i, correct in enumerate(correct[:9]):\n",
        "    plt.subplot(3,3,i+1)\n",
        "    plt.imshow(X_test[correct].reshape(28,28), cmap='gray', interpolation='none')\n",
        "    plt.title(\"Predicted {}, Class {}\".format(predicted_classes[correct], test_classes[correct]))\n",
        "    plt.tight_layout()"
      ],
      "execution_count": 27,
      "outputs": [
        {
          "output_type": "stream",
          "text": [
            "(10000, 10)\n",
            "(10000,) (10000,)\n",
            "Found 966 correct labels\n"
          ],
          "name": "stdout"
        },
        {
          "output_type": "display_data",
          "data": {
            "image/png": "[encoded data removed]",
            "text/plain": [
              "<Figure size 432x288 with 9 Axes>"
            ]
          },
          "metadata": {
            "tags": []
          }
        }
      ]
    },
    {
      "cell_type": "code",
      "metadata": {
        "id": "mIj3YJ-hXILz",
        "colab_type": "code",
        "colab": {
          "base_uri": "https://localhost:8080/",
          "height": 353
        },
        "outputId": "e132d4c3-bf2d-4b62-eb1b-e3c20e6366ea"
      },
      "source": [
        "incorrect = np.where(predicted_classes!=test_classes)[0]\n",
        "print (incorrect.shape)\n",
        "print (\"Found %d incorrect labels\" %len(incorrect))\n",
        "print(size_row)\n",
        "for i, incorrect in enumerate(incorrect[:30]):\n",
        "    plt.subplot(3,10,i+1)\n",
        "    plt.imshow(X_test[incorrect].reshape(28,28), cmap='gray', interpolation='none')\n",
        "    plt.title(\"Predicted {}, Class {}\".format(predicted_classes[incorrect], test_classes[incorrect]))\n",
        "    plt.tight_layout()\n"
      ],
      "execution_count": 53,
      "outputs": [
        {
          "output_type": "stream",
          "text": [
            "(9034,)\n",
            "Found 9034 incorrect labels\n",
            "3011\n"
          ],
          "name": "stdout"
        },
        {
          "output_type": "stream",
          "text": [
            "/usr/local/lib/python3.6/dist-packages/matplotlib/tight_layout.py:199: UserWarning: Tight layout not applied. tight_layout cannot make axes width small enough to accommodate all axes decorations\n",
            "  warnings.warn('Tight layout not applied. '\n"
          ],
          "name": "stderr"
        },
        {
          "output_type": "display_data",
          "data": {
            "image/png": "[encoded data removed]",
            "text/plain": [
              "<Figure size 432x288 with 30 Axes>"
            ]
          },
          "metadata": {
            "tags": []
          }
        }
      ]
    }
  ]
}