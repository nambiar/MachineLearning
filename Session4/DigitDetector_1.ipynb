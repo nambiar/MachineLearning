{
  "nbformat": 4,
  "nbformat_minor": 0,
  "metadata": {
    "colab": {
      "name": "DigitDetector.ipynb",
      "version": "0.3.2",
      "provenance": [],
      "collapsed_sections": [],
      "include_colab_link": true
    },
    "kernelspec": {
      "name": "python3",
      "display_name": "Python 3"
    },
    "accelerator": "GPU"
  },
  "cells": [
    {
      "cell_type": "markdown",
      "metadata": {
        "id": "view-in-github",
        "colab_type": "text"
      },
      "source": [
        "<a href=\"https://colab.research.google.com/github/nambiar/MachineLearning/blob/master/Session4/DigitDetector_1.ipynb\" target=\"_parent\"><img src=\"https://colab.research.google.com/assets/colab-badge.svg\" alt=\"Open In Colab\"/></a>"
      ]
    },
    {
      "cell_type": "markdown",
      "metadata": {
        "id": "aNyZv-Ec52ot",
        "colab_type": "text"
      },
      "source": [
        "# **Import Libraries and modules**"
      ]
    },
    {
      "cell_type": "markdown",
      "metadata": {
        "id": "Q8NksxYFd8kh",
        "colab_type": "text"
      },
      "source": [
        "This code takes in the input and we start with a very generic framework  .\n",
        "\n",
        "\n",
        "1.   Kernel increasing in the order and decreasing when the receptive field reaches 10*10.\n",
        "2.   Understanding the information in the image\n",
        "3.   Image has a single channel ie Grey scale image \n",
        "4.  The idea is have a CNN creating many features in the starting and building on them later\n",
        "5.  Can stopt at receptive field 7*7 or 10*10\n",
        "\n",
        "\n",
        "\n"
      ]
    },
    {
      "cell_type": "code",
      "metadata": {
        "id": "3m3w1Cw49Zkt",
        "colab_type": "code",
        "colab": {}
      },
      "source": [
        "# https://keras.io/\n",
        "!pip install -q keras\n",
        "import keras"
      ],
      "execution_count": 0,
      "outputs": []
    },
    {
      "cell_type": "code",
      "metadata": {
        "id": "Eso6UHE080D4",
        "colab_type": "code",
        "colab": {}
      },
      "source": [
        "import numpy as np\n",
        "\n",
        "from keras.models import Sequential\n",
        "from keras.layers import Dense, Dropout, Activation, Flatten, Add\n",
        "from keras.layers import Convolution2D, MaxPooling2D\n",
        "from keras.utils import np_utils\n",
        "from keras.layers import Convolution2D as Conv2D\n",
        "\n",
        "from keras.datasets import mnist"
      ],
      "execution_count": 0,
      "outputs": []
    },
    {
      "cell_type": "markdown",
      "metadata": {
        "id": "zByEi95J86RD",
        "colab_type": "text"
      },
      "source": [
        "### Load pre-shuffled MNIST data into train and test sets"
      ]
    },
    {
      "cell_type": "code",
      "metadata": {
        "id": "7eRM0QWN83PV",
        "colab_type": "code",
        "colab": {
          "base_uri": "https://localhost:8080/",
          "height": 52
        },
        "outputId": "7445b80f-1aca-418c-a2db-a9376b69127f"
      },
      "source": [
        "(X_train, y_train), (X_test, y_test) = mnist.load_data()"
      ],
      "execution_count": 6,
      "outputs": [
        {
          "output_type": "stream",
          "text": [
            "Downloading data from https://s3.amazonaws.com/img-datasets/mnist.npz\n",
            "11493376/11490434 [==============================] - 2s 0us/step\n"
          ],
          "name": "stdout"
        }
      ]
    },
    {
      "cell_type": "code",
      "metadata": {
        "id": "4a4Be72j8-ZC",
        "colab_type": "code",
        "outputId": "d2c9ce80-f553-4603-e728-18e107eaf955",
        "colab": {
          "base_uri": "https://localhost:8080/",
          "height": 304
        }
      },
      "source": [
        "print (X_train.shape)\n",
        "from matplotlib import pyplot as plt\n",
        "%matplotlib inline\n",
        "#plt.imshow(X_train[1])\n",
        "plt.imshow(X_train[100])"
      ],
      "execution_count": 7,
      "outputs": [
        {
          "output_type": "stream",
          "text": [
            "(60000, 28, 28)\n"
          ],
          "name": "stdout"
        },
        {
          "output_type": "execute_result",
          "data": {
            "text/plain": [
              "<matplotlib.image.AxesImage at 0x7fdabf2b72e8>"
            ]
          },
          "metadata": {
            "tags": []
          },
          "execution_count": 7
        },
        {
          "output_type": "display_data",
          "data": {
            "image/png": "[encoded data removed]",
            "text/plain": [
              "<Figure size 432x288 with 1 Axes>"
            ]
          },
          "metadata": {
            "tags": []
          }
        }
      ]
    },
    {
      "cell_type": "code",
      "metadata": {
        "id": "dkmprriw9AnZ",
        "colab_type": "code",
        "colab": {}
      },
      "source": [
        "X_train = X_train.reshape(X_train.shape[0], 28, 28,1)\n",
        "X_test = X_test.reshape(X_test.shape[0], 28, 28,1)"
      ],
      "execution_count": 0,
      "outputs": []
    },
    {
      "cell_type": "code",
      "metadata": {
        "id": "X2m4YS4E9CRh",
        "colab_type": "code",
        "colab": {}
      },
      "source": [
        "X_train = X_train.astype('float32')\n",
        "X_test = X_test.astype('float32')\n",
        "X_train /= 255\n",
        "X_test /= 255"
      ],
      "execution_count": 0,
      "outputs": []
    },
    {
      "cell_type": "code",
      "metadata": {
        "id": "0Mn0vAYD9DvB",
        "colab_type": "code",
        "outputId": "d04949f4-c045-4e82-d140-04c9b2363bcb",
        "colab": {
          "base_uri": "https://localhost:8080/",
          "height": 35
        }
      },
      "source": [
        "y_train[:10]"
      ],
      "execution_count": 10,
      "outputs": [
        {
          "output_type": "execute_result",
          "data": {
            "text/plain": [
              "array([5, 0, 4, 1, 9, 2, 1, 3, 1, 4], dtype=uint8)"
            ]
          },
          "metadata": {
            "tags": []
          },
          "execution_count": 10
        }
      ]
    },
    {
      "cell_type": "code",
      "metadata": {
        "id": "ZG8JiXR39FHC",
        "colab_type": "code",
        "colab": {}
      },
      "source": [
        "# Convert 1-dimensional class arrays to 10-dimensional class matrices\n",
        "Y_train = np_utils.to_categorical(y_train, 10)\n",
        "Y_test = np_utils.to_categorical(y_test, 10)"
      ],
      "execution_count": 0,
      "outputs": []
    },
    {
      "cell_type": "code",
      "metadata": {
        "id": "fYlFRvKS9HMB",
        "colab_type": "code",
        "outputId": "6c2d4ae8-31f8-4b7e-f0c4-140708b0d389",
        "colab": {
          "base_uri": "https://localhost:8080/",
          "height": 191
        }
      },
      "source": [
        "Y_train[:10]\n"
      ],
      "execution_count": 12,
      "outputs": [
        {
          "output_type": "execute_result",
          "data": {
            "text/plain": [
              "array([[0., 0., 0., 0., 0., 1., 0., 0., 0., 0.],\n",
              "       [1., 0., 0., 0., 0., 0., 0., 0., 0., 0.],\n",
              "       [0., 0., 0., 0., 1., 0., 0., 0., 0., 0.],\n",
              "       [0., 1., 0., 0., 0., 0., 0., 0., 0., 0.],\n",
              "       [0., 0., 0., 0., 0., 0., 0., 0., 0., 1.],\n",
              "       [0., 0., 1., 0., 0., 0., 0., 0., 0., 0.],\n",
              "       [0., 1., 0., 0., 0., 0., 0., 0., 0., 0.],\n",
              "       [0., 0., 0., 1., 0., 0., 0., 0., 0., 0.],\n",
              "       [0., 1., 0., 0., 0., 0., 0., 0., 0., 0.],\n",
              "       [0., 0., 0., 0., 1., 0., 0., 0., 0., 0.]], dtype=float32)"
            ]
          },
          "metadata": {
            "tags": []
          },
          "execution_count": 12
        }
      ]
    },
    {
      "cell_type": "markdown",
      "metadata": {
        "id": "m80j9BnD9WMt",
        "colab_type": "text"
      },
      "source": [
        "Another inference to use lesser number of kernels is by noticing that 3*3 covers the middle segment of the image 5*5 to 20*20 more number of times and also this is the place where information (the feature)resides for most number of test images"
      ]
    },
    {
      "cell_type": "code",
      "metadata": {
        "id": "osKqT73Q9JJB",
        "colab_type": "code",
        "outputId": "a0a84288-fa21-4279-9d6b-d4e6772d3cbd",
        "colab": {
          "base_uri": "https://localhost:8080/",
          "height": 263
        }
      },
      "source": [
        "from keras.layers import Activation\n",
        "model = Sequential()\n",
        "\n",
        "model.add(Conv2D(32, 3, 3, activation='relu', input_shape=(28,28,1))) # 26\n",
        "\n",
        "model.add(Conv2D(64, 3, 3, activation='relu')) # 24\n",
        "\n",
        "model.add(MaxPooling2D(pool_size=(2, 2))) # 12\n",
        "model.add(Conv2D(32, 1, 1, activation='relu')) # 12 = 12*12*32\n",
        "\n",
        "model.add(Conv2D(32, 3, 3, activation='relu')) # 10\n",
        "model.add(Conv2D(64, 3, 3, activation='relu')) # 8\n",
        "\n",
        "model.add(Conv2D(10, 1, activation='relu')) #7\n",
        "model.add(Conv2D(10, 8))\n",
        "model.add(Flatten())\n",
        "model.add(Activation('softmax'))"
      ],
      "execution_count": 13,
      "outputs": [
        {
          "output_type": "stream",
          "text": [
            "WARNING:tensorflow:From /usr/local/lib/python3.6/dist-packages/tensorflow/python/framework/op_def_library.py:263: colocate_with (from tensorflow.python.framework.ops) is deprecated and will be removed in a future version.\n",
            "Instructions for updating:\n",
            "Colocations handled automatically by placer.\n"
          ],
          "name": "stdout"
        },
        {
          "output_type": "stream",
          "text": [
            "/usr/local/lib/python3.6/dist-packages/ipykernel_launcher.py:4: UserWarning: Update your `Conv2D` call to the Keras 2 API: `Conv2D(32, (3, 3), activation=\"relu\", input_shape=(28, 28, 1...)`\n",
            "  after removing the cwd from sys.path.\n",
            "/usr/local/lib/python3.6/dist-packages/ipykernel_launcher.py:6: UserWarning: Update your `Conv2D` call to the Keras 2 API: `Conv2D(64, (3, 3), activation=\"relu\")`\n",
            "  \n",
            "/usr/local/lib/python3.6/dist-packages/ipykernel_launcher.py:10: UserWarning: Update your `Conv2D` call to the Keras 2 API: `Conv2D(32, (1, 1), activation=\"relu\")`\n",
            "  # Remove the CWD from sys.path while we load stuff.\n",
            "/usr/local/lib/python3.6/dist-packages/ipykernel_launcher.py:12: UserWarning: Update your `Conv2D` call to the Keras 2 API: `Conv2D(32, (3, 3), activation=\"relu\")`\n",
            "  if sys.path[0] == '':\n",
            "/usr/local/lib/python3.6/dist-packages/ipykernel_launcher.py:13: UserWarning: Update your `Conv2D` call to the Keras 2 API: `Conv2D(64, (3, 3), activation=\"relu\")`\n",
            "  del sys.path[0]\n"
          ],
          "name": "stderr"
        }
      ]
    },
    {
      "cell_type": "code",
      "metadata": {
        "id": "TzdAYg1k9K7Z",
        "colab_type": "code",
        "outputId": "7e30eabc-5cd3-4286-a9d9-ad48946af21c",
        "colab": {
          "base_uri": "https://localhost:8080/",
          "height": 485
        }
      },
      "source": [
        "model.summary()"
      ],
      "execution_count": 14,
      "outputs": [
        {
          "output_type": "stream",
          "text": [
            "_________________________________________________________________\n",
            "Layer (type)                 Output Shape              Param #   \n",
            "=================================================================\n",
            "conv2d_1 (Conv2D)            (None, 26, 26, 32)        320       \n",
            "_________________________________________________________________\n",
            "conv2d_2 (Conv2D)            (None, 24, 24, 64)        18496     \n",
            "_________________________________________________________________\n",
            "max_pooling2d_1 (MaxPooling2 (None, 12, 12, 64)        0         \n",
            "_________________________________________________________________\n",
            "conv2d_3 (Conv2D)            (None, 12, 12, 32)        2080      \n",
            "_________________________________________________________________\n",
            "conv2d_4 (Conv2D)            (None, 10, 10, 32)        9248      \n",
            "_________________________________________________________________\n",
            "conv2d_5 (Conv2D)            (None, 8, 8, 64)          18496     \n",
            "_________________________________________________________________\n",
            "conv2d_6 (Conv2D)            (None, 8, 8, 10)          650       \n",
            "_________________________________________________________________\n",
            "conv2d_7 (Conv2D)            (None, 1, 1, 10)          6410      \n",
            "_________________________________________________________________\n",
            "flatten_1 (Flatten)          (None, 10)                0         \n",
            "_________________________________________________________________\n",
            "activation_1 (Activation)    (None, 10)                0         \n",
            "=================================================================\n",
            "Total params: 55,700\n",
            "Trainable params: 55,700\n",
            "Non-trainable params: 0\n",
            "_________________________________________________________________\n"
          ],
          "name": "stdout"
        }
      ]
    },
    {
      "cell_type": "code",
      "metadata": {
        "id": "Zp6SuGrL9M3h",
        "colab_type": "code",
        "colab": {}
      },
      "source": [
        "model.compile(loss='categorical_crossentropy',\n",
        "             optimizer='adam',\n",
        "             metrics=['accuracy'])"
      ],
      "execution_count": 0,
      "outputs": []
    },
    {
      "cell_type": "markdown",
      "metadata": {
        "id": "yDu0NLv-8kB7",
        "colab_type": "text"
      },
      "source": [
        "Training accuracy keeps on increasing starting from 95% and validation accuracy from 97%"
      ]
    },
    {
      "cell_type": "code",
      "metadata": {
        "id": "4xWoKhPY9Of5",
        "colab_type": "code",
        "outputId": "91f79459-1d95-4284-a592-76e63cf741ea",
        "colab": {
          "base_uri": "https://localhost:8080/",
          "height": 471
        }
      },
      "source": [
        "model.fit(X_train, Y_train, batch_size=32, epochs=10, verbose=1,validation_data=(X_test, Y_test),)"
      ],
      "execution_count": 16,
      "outputs": [
        {
          "output_type": "stream",
          "text": [
            "WARNING:tensorflow:From /usr/local/lib/python3.6/dist-packages/tensorflow/python/ops/math_ops.py:3066: to_int32 (from tensorflow.python.ops.math_ops) is deprecated and will be removed in a future version.\n",
            "Instructions for updating:\n",
            "Use tf.cast instead.\n",
            "Train on 60000 samples, validate on 10000 samples\n",
            "Epoch 1/10\n",
            "60000/60000 [==============================] - 15s 253us/step - loss: 0.1507 - acc: 0.9534 - val_loss: 0.0610 - val_acc: 0.9781\n",
            "Epoch 2/10\n",
            "60000/60000 [==============================] - 10s 168us/step - loss: 0.0523 - acc: 0.9841 - val_loss: 0.0464 - val_acc: 0.9847\n",
            "Epoch 3/10\n",
            "60000/60000 [==============================] - 10s 169us/step - loss: 0.0379 - acc: 0.9887 - val_loss: 0.0403 - val_acc: 0.9871\n",
            "Epoch 4/10\n",
            "60000/60000 [==============================] - 10s 169us/step - loss: 0.0305 - acc: 0.9905 - val_loss: 0.0262 - val_acc: 0.9915\n",
            "Epoch 5/10\n",
            "60000/60000 [==============================] - 10s 169us/step - loss: 0.0261 - acc: 0.9916 - val_loss: 0.0340 - val_acc: 0.9896\n",
            "Epoch 6/10\n",
            "60000/60000 [==============================] - 11s 185us/step - loss: 0.0213 - acc: 0.9933 - val_loss: 0.0298 - val_acc: 0.9891\n",
            "Epoch 7/10\n",
            "60000/60000 [==============================] - 10s 173us/step - loss: 0.0184 - acc: 0.9943 - val_loss: 0.0282 - val_acc: 0.9913\n",
            "Epoch 8/10\n",
            "60000/60000 [==============================] - 10s 170us/step - loss: 0.0161 - acc: 0.9948 - val_loss: 0.0265 - val_acc: 0.9912\n",
            "Epoch 9/10\n",
            "60000/60000 [==============================] - 10s 169us/step - loss: 0.0137 - acc: 0.9955 - val_loss: 0.0318 - val_acc: 0.9910\n",
            "Epoch 10/10\n",
            "60000/60000 [==============================] - 10s 169us/step - loss: 0.0136 - acc: 0.9956 - val_loss: 0.0344 - val_acc: 0.9915\n"
          ],
          "name": "stdout"
        },
        {
          "output_type": "execute_result",
          "data": {
            "text/plain": [
              "<keras.callbacks.History at 0x7fdabc904a90>"
            ]
          },
          "metadata": {
            "tags": []
          },
          "execution_count": 16
        }
      ]
    },
    {
      "cell_type": "code",
      "metadata": {
        "id": "AtsH-lLk-eLb",
        "colab_type": "code",
        "colab": {}
      },
      "source": [
        "score = model.evaluate(X_test, Y_test, verbose=0)"
      ],
      "execution_count": 0,
      "outputs": []
    },
    {
      "cell_type": "code",
      "metadata": {
        "id": "mkX8JMv79q9r",
        "colab_type": "code",
        "outputId": "17ed7300-6a91-4e90-95b3-e887f50ca192",
        "colab": {
          "base_uri": "https://localhost:8080/",
          "height": 35
        }
      },
      "source": [
        "print(score)"
      ],
      "execution_count": 18,
      "outputs": [
        {
          "output_type": "stream",
          "text": [
            "[0.0344060315734163, 0.9915]\n"
          ],
          "name": "stdout"
        }
      ]
    },
    {
      "cell_type": "code",
      "metadata": {
        "id": "OCWoJkwE9suh",
        "colab_type": "code",
        "colab": {}
      },
      "source": [
        "y_pred = model.predict(X_test)"
      ],
      "execution_count": 0,
      "outputs": []
    },
    {
      "cell_type": "code",
      "metadata": {
        "id": "Ym7iCFBm9uBs",
        "colab_type": "code",
        "outputId": "e4202572-d324-46d3-e716-cf57c24ea30a",
        "colab": {
          "base_uri": "https://localhost:8080/",
          "height": 503
        }
      },
      "source": [
        "print(y_pred[:9])\n",
        "print(y_test[:9])"
      ],
      "execution_count": 20,
      "outputs": [
        {
          "output_type": "stream",
          "text": [
            "[[7.00110000e-16 9.53148964e-14 4.14636603e-10 1.25040506e-10\n",
            "  4.53677960e-17 3.31509654e-14 1.96802826e-23 1.00000000e+00\n",
            "  5.58098150e-14 9.35503203e-11]\n",
            " [3.53770534e-13 1.80012220e-11 1.00000000e+00 1.13020739e-17\n",
            "  5.34579599e-17 4.65630265e-18 2.00023872e-10 2.58559647e-20\n",
            "  1.32923642e-12 1.29660015e-17]\n",
            " [7.53764481e-11 9.99994993e-01 2.63594213e-08 3.40447982e-12\n",
            "  4.09342283e-06 2.31611654e-08 4.99510766e-10 9.31648856e-07\n",
            "  4.58014568e-08 2.27115063e-11]\n",
            " [9.99961138e-01 2.16921370e-13 1.03435949e-11 1.93690654e-11\n",
            "  6.95160617e-13 3.98796907e-09 3.88829176e-05 1.39800498e-11\n",
            "  6.02161043e-10 4.61471261e-09]\n",
            " [4.51025755e-17 6.44220441e-12 7.29500773e-15 8.10464364e-16\n",
            "  1.00000000e+00 2.89428988e-16 1.50632848e-12 3.50175622e-09\n",
            "  9.18771240e-11 1.33586768e-08]\n",
            " [2.39857374e-12 9.99998689e-01 3.79744858e-09 3.82161869e-15\n",
            "  1.07444623e-06 4.45488698e-12 2.48485347e-12 2.17413373e-07\n",
            "  2.35828534e-09 2.10475279e-12]\n",
            " [9.17438165e-23 7.23203745e-12 2.07540504e-14 1.63447299e-17\n",
            "  9.99999881e-01 4.22963700e-14 3.28547888e-18 4.31077483e-13\n",
            "  6.38432098e-08 2.56223598e-10]\n",
            " [1.51290785e-20 5.75672593e-14 5.96748623e-11 2.16306279e-14\n",
            "  3.51767130e-06 1.11778273e-12 3.52747102e-17 9.53162896e-12\n",
            "  3.08140904e-12 9.99996424e-01]\n",
            " [3.02213754e-10 1.47563741e-16 2.14394149e-13 3.25542798e-15\n",
            "  4.06069167e-18 9.98912573e-01 1.60074851e-04 3.44801325e-18\n",
            "  9.27360146e-04 2.01271333e-10]]\n",
            "[7 2 1 0 4 1 4 9 5]\n"
          ],
          "name": "stdout"
        }
      ]
    },
    {
      "cell_type": "code",
      "metadata": {
        "id": "9tvptcn8dxvp",
        "colab_type": "code",
        "colab": {}
      },
      "source": [
        ""
      ],
      "execution_count": 0,
      "outputs": []
    }
  ]
}