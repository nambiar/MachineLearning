{
  "nbformat": 4,
  "nbformat_minor": 0,
  "metadata": {
    "colab": {
      "name": "Session9.ipynb",
      "provenance": [],
      "collapsed_sections": [],
      "include_colab_link": true
    },
    "kernelspec": {
      "name": "python3",
      "display_name": "Python 3"
    },
    "accelerator": "GPU"
  },
  "cells": [
    {
      "cell_type": "markdown",
      "metadata": {
        "id": "view-in-github",
        "colab_type": "text"
      },
      "source": [
        "<a href=\"https://colab.research.google.com/github/nambiar/MachineLearning/blob/master/Session9/Session9.ipynb\" target=\"_parent\"><img src=\"https://colab.research.google.com/assets/colab-badge.svg\" alt=\"Open In Colab\"/></a>"
      ]
    },
    {
      "cell_type": "code",
      "metadata": {
        "id": "XCy0r_GUsSxJ",
        "colab_type": "code",
        "colab": {
          "base_uri": "https://localhost:8080/",
          "height": 302
        },
        "outputId": "4e4781a4-02de-4c7a-b3d4-01f6ef0cf04b"
      },
      "source": [
        "!pip install -I scipy==1.2.*"
      ],
      "execution_count": 1,
      "outputs": [
        {
          "output_type": "stream",
          "text": [
            "Collecting scipy==1.2.*\n",
            "\u001b[?25l  Downloading https://files.pythonhosted.org/packages/c7/d6/661cf4fb32ecda40fc03685ef0995db3d3300c619f461751621f646ab3f6/scipy-1.2.3-cp36-cp36m-manylinux1_x86_64.whl (24.8MB)\n",
            "\u001b[K     |████████████████████████████████| 24.8MB 1.4MB/s \n",
            "\u001b[?25hCollecting numpy>=1.8.2\n",
            "\u001b[?25l  Downloading https://files.pythonhosted.org/packages/62/20/4d43e141b5bc426ba38274933ef8e76e85c7adea2c321ecf9ebf7421cedf/numpy-1.18.1-cp36-cp36m-manylinux1_x86_64.whl (20.1MB)\n",
            "\u001b[K     |████████████████████████████████| 20.2MB 159kB/s \n",
            "\u001b[31mERROR: datascience 0.10.6 has requirement folium==0.2.1, but you'll have folium 0.8.3 which is incompatible.\u001b[0m\n",
            "\u001b[31mERROR: albumentations 0.1.12 has requirement imgaug<0.2.7,>=0.2.5, but you'll have imgaug 0.2.9 which is incompatible.\u001b[0m\n",
            "\u001b[?25hInstalling collected packages: numpy, scipy\n",
            "Successfully installed numpy-1.18.1 scipy-1.4.1\n"
          ],
          "name": "stdout"
        },
        {
          "output_type": "display_data",
          "data": {
            "application/vnd.colab-display-data+json": {
              "pip_warning": {
                "packages": [
                  "numpy"
                ]
              }
            }
          },
          "metadata": {
            "tags": []
          }
        }
      ]
    },
    {
      "cell_type": "code",
      "metadata": {
        "id": "0SJyVpgSxHt4",
        "colab_type": "code",
        "outputId": "2a6e4664-cb0a-42e3-d534-a62c44554c50",
        "colab": {
          "base_uri": "https://localhost:8080/",
          "height": 81
        }
      },
      "source": [
        "import numpy as np\n",
        "\n",
        "from keras.models import Sequential\n",
        "from keras.layers import Dense, Dropout, Activation, Flatten, Add, BatchNormalization\n",
        "from keras.layers import Convolution2D, MaxPooling2D\n",
        "from keras.utils import np_utils\n",
        "import matplotlib.pyplot as plt\n",
        "from keras.datasets import mnist\n",
        "#importing image normalisation class\n",
        "from keras.preprocessing.image import ImageDataGenerator\n",
        "from keras import regularizers\n",
        "\n",
        "#!pip install scipy==1.1.0 --user #doing this to enable vis.visualisation\n",
        "from keras.preprocessing.image import load_img, img_to_array"
      ],
      "execution_count": 1,
      "outputs": [
        {
          "output_type": "stream",
          "text": [
            "Using TensorFlow backend.\n"
          ],
          "name": "stderr"
        },
        {
          "output_type": "display_data",
          "data": {
            "text/html": [
              "<p style=\"color: red;\">\n",
              "The default version of TensorFlow in Colab will soon switch to TensorFlow 2.x.<br>\n",
              "We recommend you <a href=\"https://www.tensorflow.org/guide/migrate\" target=\"_blank\">upgrade</a> now \n",
              "or ensure your notebook will continue to use TensorFlow 1.x via the <code>%tensorflow_version 1.x</code> magic:\n",
              "<a href=\"https://colab.research.google.com/notebooks/tensorflow_version.ipynb\" target=\"_blank\">more info</a>.</p>\n"
            ],
            "text/plain": [
              "<IPython.core.display.HTML object>"
            ]
          },
          "metadata": {
            "tags": []
          }
        }
      ]
    },
    {
      "cell_type": "markdown",
      "metadata": {
        "id": "FFphJIq7oU2Z",
        "colab_type": "text"
      },
      "source": [
        "Learning regarding the GradCam and how it can be incorporated\n",
        "\n",
        "Class Activation Maps: \n",
        "Where the object is or localization\n",
        "\n",
        "> As image moves through CNN it shrinks and through ReLU activation we see that the pixel is either 0 or 1, Each feature has a representation in the image\n",
        "\n",
        "\n",
        "> In that sense beofr we do a GAP which gets a positive value for that feature at the last CONV layer we have this feature in one of the pixels\n",
        "If we multiply \n",
        "\n",
        "\n",
        "\n"
      ]
    },
    {
      "cell_type": "markdown",
      "metadata": {
        "id": "hnS6UgXxD-cT",
        "colab_type": "text"
      },
      "source": [
        "Usage of ImageDataGenerator class for Image normalisation\n",
        "Load the dataset, configure the class, calculate image properties ,fit the model using generator & evaluate generator\n",
        "pixel scaling using Imagedate generator class, Pixel Normalization, Pixel Centering, pixel standarisation\n",
        "create and configure the data generator\n"
      ]
    },
    {
      "cell_type": "code",
      "metadata": {
        "id": "YlEUplvoxKAT",
        "colab_type": "code",
        "outputId": "58a9cd9b-cbc1-4e6a-a000-5c68ed7a6d89",
        "colab": {
          "base_uri": "https://localhost:8080/",
          "height": 124
        }
      },
      "source": [
        "(X_train, y_train), (X_test, y_test) = mnist.load_data()\n",
        "print('Train', X_train.shape, y_train.shape)\n",
        "print('Test', X_test.shape, y_test.shape)\n",
        "print('Train', X_train.min(), X_train.max(), X_train.mean(), X_train.std())\n",
        "print('Test', X_test.min(), X_test.max(), X_test.mean(), X_test.std())\n"
      ],
      "execution_count": 2,
      "outputs": [
        {
          "output_type": "stream",
          "text": [
            "Downloading data from https://s3.amazonaws.com/img-datasets/mnist.npz\n",
            "11493376/11490434 [==============================] - 2s 0us/step\n",
            "Train (60000, 28, 28) (60000,)\n",
            "Test (10000, 28, 28) (10000,)\n",
            "Train 0 255 33.318421449829934 78.56748998339798\n",
            "Test 0 255 33.791224489795916 79.17246322228644\n"
          ],
          "name": "stdout"
        }
      ]
    },
    {
      "cell_type": "code",
      "metadata": {
        "id": "I6Y9Va-xxMXG",
        "colab_type": "code",
        "outputId": "a40373ed-b70c-4b3c-9802-465acac177fc",
        "colab": {
          "base_uri": "https://localhost:8080/",
          "height": 301
        }
      },
      "source": [
        "print (X_train.shape)\n",
        "from matplotlib import pyplot as plt\n",
        "%matplotlib inline\n",
        "plt.imshow(X_train[1])\n"
      ],
      "execution_count": 3,
      "outputs": [
        {
          "output_type": "stream",
          "text": [
            "(60000, 28, 28)\n"
          ],
          "name": "stdout"
        },
        {
          "output_type": "execute_result",
          "data": {
            "text/plain": [
              "<matplotlib.image.AxesImage at 0x7f0cef3890f0>"
            ]
          },
          "metadata": {
            "tags": []
          },
          "execution_count": 3
        },
        {
          "output_type": "display_data",
          "data": {
            "image/png": "[encoded data removed]",
            "text/plain": [
              "<Figure size 432x288 with 1 Axes>"
            ]
          },
          "metadata": {
            "tags": []
          }
        }
      ]
    },
    {
      "cell_type": "code",
      "metadata": {
        "id": "lxDZxPhhxOgO",
        "colab_type": "code",
        "outputId": "6ef14b6c-1d5c-4d4a-83cc-4853cf7e47fa",
        "colab": {
          "base_uri": "https://localhost:8080/",
          "height": 70
        }
      },
      "source": [
        "X_train = X_train.reshape(X_train.shape[0], 28, 28,1)\n",
        "X_test = X_test.reshape(X_test.shape[0], 28, 28,1)\n",
        "print (X_train.shape)\n",
        "plt.figure(figsize=[5,5])\n",
        "\n",
        "\n",
        "           \n",
        "\n",
        "\n"
      ],
      "execution_count": 4,
      "outputs": [
        {
          "output_type": "stream",
          "text": [
            "(60000, 28, 28, 1)\n"
          ],
          "name": "stdout"
        },
        {
          "output_type": "execute_result",
          "data": {
            "text/plain": [
              "<Figure size 360x360 with 0 Axes>"
            ]
          },
          "metadata": {
            "tags": []
          },
          "execution_count": 4
        },
        {
          "output_type": "display_data",
          "data": {
            "text/plain": [
              "<Figure size 360x360 with 0 Axes>"
            ]
          },
          "metadata": {
            "tags": []
          }
        }
      ]
    },
    {
      "cell_type": "code",
      "metadata": {
        "id": "p6KGORMrYh2J",
        "colab_type": "code",
        "outputId": "0de93b4f-7a7b-477f-a763-c01a5cebdefa",
        "colab": {
          "base_uri": "https://localhost:8080/",
          "height": 304
        }
      },
      "source": [
        "X_gradcam_image_1 = X_train[0,:,:,:]\n",
        "X_gradcam_image_2 = X_train[1,:,:,:]\n",
        "X_gradcam_image_3 = X_train[2,:,:,:]\n",
        "X_gradcam_image_4 = X_train[3,:,:,:]\n",
        "print(X_gradcam_image_2.shape)\n",
        "%matplotlib inline\n",
        "\n",
        "f, axarr = plt.subplots(2,2)\n",
        "axarr[0,0].imshow(X_gradcam_image_1[:,:,0])\n",
        "axarr[0,1].imshow(X_gradcam_image_2[:,:,0])\n",
        "axarr[1,0].imshow(X_gradcam_image_3[:,:,0])\n",
        "axarr[1,1].imshow(X_gradcam_image_4[:,:,0])\n"
      ],
      "execution_count": 5,
      "outputs": [
        {
          "output_type": "stream",
          "text": [
            "(28, 28, 1)\n"
          ],
          "name": "stdout"
        },
        {
          "output_type": "execute_result",
          "data": {
            "text/plain": [
              "<matplotlib.image.AxesImage at 0x7f0ceedfdbe0>"
            ]
          },
          "metadata": {
            "tags": []
          },
          "execution_count": 5
        },
        {
          "output_type": "display_data",
          "data": {
            "image/png": "[encoded data removed]",
            "text/plain": [
              "<Figure size 432x288 with 4 Axes>"
            ]
          },
          "metadata": {
            "tags": []
          }
        }
      ]
    },
    {
      "cell_type": "code",
      "metadata": {
        "id": "3HzMqbTnxQQW",
        "colab_type": "code",
        "colab": {}
      },
      "source": [
        "X_train = X_train.astype('float32')\n",
        "X_test = X_test.astype('float32')\n",
        "#X_train /= 255\n",
        "#X_test /= 255"
      ],
      "execution_count": 0,
      "outputs": []
    },
    {
      "cell_type": "code",
      "metadata": {
        "id": "7LdYiW6ixR9e",
        "colab_type": "code",
        "outputId": "3583f96b-fef1-479d-e1c1-a1138aba5733",
        "colab": {
          "base_uri": "https://localhost:8080/",
          "height": 88
        }
      },
      "source": [
        "# Find the unique numbers from the train labels\n",
        "classes = np.unique(y_train)\n",
        "nClasses = len(classes)\n",
        "print('Total number of outputs : ', nClasses)\n",
        "print('Output classes : ', classes)\n",
        "y_train[:10]\n",
        "plt\n",
        "Y_train = np_utils.to_categorical(y_train)\n",
        "Y_test = np_utils.to_categorical(y_test)\n",
        "print('Original label:', y_train[0])\n",
        "print('After conversion to one-hot:', Y_train[0])"
      ],
      "execution_count": 7,
      "outputs": [
        {
          "output_type": "stream",
          "text": [
            "Total number of outputs :  10\n",
            "Output classes :  [0 1 2 3 4 5 6 7 8 9]\n",
            "Original label: 5\n",
            "After conversion to one-hot: [0. 0. 0. 0. 0. 1. 0. 0. 0. 0.]\n"
          ],
          "name": "stdout"
        }
      ]
    },
    {
      "cell_type": "code",
      "metadata": {
        "id": "rFR0F9j0xVp2",
        "colab_type": "code",
        "outputId": "0730a1a4-8054-4044-ad55-1b80a79f4fe8",
        "colab": {
          "base_uri": "https://localhost:8080/",
          "height": 195
        }
      },
      "source": [
        "Y_train[:10]"
      ],
      "execution_count": 8,
      "outputs": [
        {
          "output_type": "execute_result",
          "data": {
            "text/plain": [
              "array([[0., 0., 0., 0., 0., 1., 0., 0., 0., 0.],\n",
              "       [1., 0., 0., 0., 0., 0., 0., 0., 0., 0.],\n",
              "       [0., 0., 0., 0., 1., 0., 0., 0., 0., 0.],\n",
              "       [0., 1., 0., 0., 0., 0., 0., 0., 0., 0.],\n",
              "       [0., 0., 0., 0., 0., 0., 0., 0., 0., 1.],\n",
              "       [0., 0., 1., 0., 0., 0., 0., 0., 0., 0.],\n",
              "       [0., 1., 0., 0., 0., 0., 0., 0., 0., 0.],\n",
              "       [0., 0., 0., 1., 0., 0., 0., 0., 0., 0.],\n",
              "       [0., 1., 0., 0., 0., 0., 0., 0., 0., 0.],\n",
              "       [0., 0., 0., 0., 1., 0., 0., 0., 0., 0.]], dtype=float32)"
            ]
          },
          "metadata": {
            "tags": []
          },
          "execution_count": 8
        }
      ]
    },
    {
      "cell_type": "code",
      "metadata": {
        "id": "H9I15BAI3Kkk",
        "colab_type": "code",
        "colab": {}
      },
      "source": [
        "def get_random_eraser(p=0.5, s_l=0.02, s_h=0.4, r_1=0.3, r_2=1/0.3, v_l=0, v_h=255, pixel_level=False):\n",
        "    def eraser(input_img):\n",
        "        img_h, img_w, img_c = input_img.shape\n",
        "        p_1 = np.random.rand()\n",
        "\n",
        "        if p_1 > p:\n",
        "            return input_img\n",
        "\n",
        "        while True:\n",
        "            s = np.random.uniform(s_l, s_h) * img_h * img_w\n",
        "            r = np.random.uniform(r_1, r_2)\n",
        "            w = int(np.sqrt(s / r))\n",
        "            h = int(np.sqrt(s * r))\n",
        "            left = np.random.randint(0, img_w)\n",
        "            top = np.random.randint(0, img_h)\n",
        "\n",
        "            if left + w <= img_w and top + h <= img_h:\n",
        "                break\n",
        "\n",
        "        if pixel_level:\n",
        "            c = np.random.uniform(v_l, v_h, (h, w, img_c))\n",
        "        else:\n",
        "            c = np.random.uniform(v_l, v_h)\n",
        "\n",
        "        input_img[top:top + h, left:left + w, :] = c\n",
        "\n",
        "        return input_img\n",
        "\n",
        "    return eraser"
      ],
      "execution_count": 0,
      "outputs": []
    },
    {
      "cell_type": "code",
      "metadata": {
        "id": "F_NXcRTN7L0Q",
        "colab_type": "code",
        "outputId": "ab69e121-6805-4c59-eeaa-320067752d9b",
        "colab": {
          "base_uri": "https://localhost:8080/",
          "height": 106
        }
      },
      "source": [
        "# confirm scale of pixels\n",
        "print('Train min=%.3f, max=%.3f' % (X_train.min(), X_train.max()))\n",
        "print('Test min=%.3f, max=%.3f' % (X_test.min(), X_test.max()))\n",
        "#Rescaling argument to a ratio by which each pixel can be multiplied to achieve [1 -255] range so 1/255.\n",
        "# create generator with rescaling factor(1.0/255.0 = 0.003921568627451)\n",
        "imagenormalize = ImageDataGenerator(featurewise_center=True, featurewise_std_normalization=True,preprocessing_function=get_random_eraser(v_l=0, v_h=1))\n",
        "# calculate the mean on the training dataset\n",
        "print(X_train.shape)\n",
        "imagenormalize.fit(X_train)\n",
        "print('Data Generator mean=%.3f, std=%.3f' % (imagenormalize.mean, imagenormalize.std))\n",
        "#iterators for using the normalisation on all the images in test and train datasets with epoch's\n",
        "X_train_iterator = imagenormalize.flow(X_train, Y_train, batch_size=64)\n",
        "X_test_iterator = imagenormalize.flow(X_test, Y_test, batch_size=64)\n",
        "#confimring normalisation works\n",
        "\n",
        "\n",
        "print('Batches train=%d, test=%d' % (len(X_train_iterator), len(X_test_iterator)))\n",
        "# confirm the scaling works\n",
        "#test_trainX, test_trainY = X_train_iterator.next()\n",
        "#print('Batch shape=%s, min=%.3f, max=%.3f, mean=%.3f, std=%.3f' % (test_trainX.shape, test_trainX.min(), test_trainX.max(),test_trainX.mean(), test_trainX.std()))\n",
        "# demonstrate effect on entire training dataset\n",
        "#iterator = imagenormalize.flow(X_train, Y_train, batch_size=len(X_train), shuffle=False)\n",
        "# get a batch\n",
        "#test_trainX, test_trainY = X_train_iterator.next()\n",
        "# pixel stats in the batch\n",
        "#print(test_trainX.shape, test_trainX.mean(), test_trainX.std())\n",
        "#Also adding the  l2 regularisation it reduces the accuracy from"
      ],
      "execution_count": 10,
      "outputs": [
        {
          "output_type": "stream",
          "text": [
            "Train min=0.000, max=255.000\n",
            "Test min=0.000, max=255.000\n",
            "(60000, 28, 28, 1)\n",
            "Data Generator mean=33.318, std=78.567\n",
            "Batches train=938, test=157\n"
          ],
          "name": "stdout"
        }
      ]
    },
    {
      "cell_type": "code",
      "metadata": {
        "id": "mDpXf4YQxXRm",
        "colab_type": "code",
        "outputId": "d6a60f8b-107f-41ee-9782-a48cd9aa99e4",
        "colab": {
          "base_uri": "https://localhost:8080/",
          "height": 1000
        }
      },
      "source": [
        "from keras.layers import Activation\n",
        "model = Sequential()\n",
        "\n",
        " \n",
        "model.add(Convolution2D(16, 3, 3, activation='relu', input_shape=(28,28,1),kernel_regularizer=regularizers.l2(0.00001))) #26\n",
        "model.add(BatchNormalization())\n",
        "model.add(Dropout(0.1))\n",
        "\n",
        "model.add(Convolution2D(32, 3, 3, activation='relu',kernel_regularizer=regularizers.l2(0.00001))) #24\n",
        "model.add(BatchNormalization())\n",
        "model.add(Dropout(0.1))\n",
        "\n",
        "model.add(Convolution2D(10, 1, 1, activation='relu',kernel_regularizer=regularizers.l2(0.00001))) #22\n",
        "\n",
        "model.add(MaxPooling2D(pool_size=(2, 2)))#11\n",
        "\n",
        "model.add(Convolution2D(16, 3, 3, activation='relu',kernel_regularizer=regularizers.l2(0.00001)))#9\n",
        "model.add(BatchNormalization())\n",
        "model.add(Dropout(0.1))\n",
        "\n",
        "\n",
        "model.add(Convolution2D(16, 3, 3, activation='relu',kernel_regularizer=regularizers.l2(0.00001)))#7\n",
        "model.add(BatchNormalization())\n",
        "model.add(Dropout(0.1))\n",
        "\n",
        "\n",
        "model.add(Convolution2D(16, 3, 3, activation='relu',kernel_regularizer=regularizers.l2(0.00001)))#5\n",
        "model.add(BatchNormalization())\n",
        "model.add(Dropout(0.1))\n",
        "\n",
        "\n",
        "model.add(Convolution2D(16, 3, 3, activation='relu',kernel_regularizer=regularizers.l2(0.00001)))#3\n",
        "model.add(BatchNormalization())\n",
        "model.add(Dropout(0.1))\n",
        "\n",
        "\n",
        "model.add(Convolution2D(10, 4, 4,kernel_regularizer=regularizers.l2(0.00001)))\n",
        "model.add(BatchNormalization())\n",
        "model.add(Dropout(0.1))\n",
        "\n",
        "\n",
        "model.add(Flatten())\n",
        "model.add(Activation('softmax'))\n",
        "\n",
        "\n",
        "model.summary()"
      ],
      "execution_count": 11,
      "outputs": [
        {
          "output_type": "stream",
          "text": [
            "WARNING:tensorflow:From /usr/local/lib/python3.6/dist-packages/keras/backend/tensorflow_backend.py:66: The name tf.get_default_graph is deprecated. Please use tf.compat.v1.get_default_graph instead.\n",
            "\n",
            "WARNING:tensorflow:From /usr/local/lib/python3.6/dist-packages/keras/backend/tensorflow_backend.py:541: The name tf.placeholder is deprecated. Please use tf.compat.v1.placeholder instead.\n",
            "\n",
            "WARNING:tensorflow:From /usr/local/lib/python3.6/dist-packages/keras/backend/tensorflow_backend.py:4432: The name tf.random_uniform is deprecated. Please use tf.random.uniform instead.\n",
            "\n",
            "WARNING:tensorflow:From /usr/local/lib/python3.6/dist-packages/keras/backend/tensorflow_backend.py:190: The name tf.get_default_session is deprecated. Please use tf.compat.v1.get_default_session instead.\n",
            "\n",
            "WARNING:tensorflow:From /usr/local/lib/python3.6/dist-packages/keras/backend/tensorflow_backend.py:197: The name tf.ConfigProto is deprecated. Please use tf.compat.v1.ConfigProto instead.\n",
            "\n",
            "WARNING:tensorflow:From /usr/local/lib/python3.6/dist-packages/keras/backend/tensorflow_backend.py:203: The name tf.Session is deprecated. Please use tf.compat.v1.Session instead.\n",
            "\n"
          ],
          "name": "stdout"
        },
        {
          "output_type": "stream",
          "text": [
            "/usr/local/lib/python3.6/dist-packages/ipykernel_launcher.py:5: UserWarning: Update your `Conv2D` call to the Keras 2 API: `Conv2D(16, (3, 3), activation=\"relu\", input_shape=(28, 28, 1..., kernel_regularizer=<keras.reg...)`\n",
            "  \"\"\"\n"
          ],
          "name": "stderr"
        },
        {
          "output_type": "stream",
          "text": [
            "WARNING:tensorflow:From /usr/local/lib/python3.6/dist-packages/keras/backend/tensorflow_backend.py:207: The name tf.global_variables is deprecated. Please use tf.compat.v1.global_variables instead.\n",
            "\n",
            "WARNING:tensorflow:From /usr/local/lib/python3.6/dist-packages/keras/backend/tensorflow_backend.py:216: The name tf.is_variable_initialized is deprecated. Please use tf.compat.v1.is_variable_initialized instead.\n",
            "\n",
            "WARNING:tensorflow:From /usr/local/lib/python3.6/dist-packages/keras/backend/tensorflow_backend.py:223: The name tf.variables_initializer is deprecated. Please use tf.compat.v1.variables_initializer instead.\n",
            "\n",
            "WARNING:tensorflow:From /usr/local/lib/python3.6/dist-packages/keras/backend/tensorflow_backend.py:2041: The name tf.nn.fused_batch_norm is deprecated. Please use tf.compat.v1.nn.fused_batch_norm instead.\n",
            "\n",
            "WARNING:tensorflow:From /usr/local/lib/python3.6/dist-packages/keras/backend/tensorflow_backend.py:148: The name tf.placeholder_with_default is deprecated. Please use tf.compat.v1.placeholder_with_default instead.\n",
            "\n",
            "WARNING:tensorflow:From /usr/local/lib/python3.6/dist-packages/keras/backend/tensorflow_backend.py:3733: calling dropout (from tensorflow.python.ops.nn_ops) with keep_prob is deprecated and will be removed in a future version.\n",
            "Instructions for updating:\n",
            "Please use `rate` instead of `keep_prob`. Rate should be set to `rate = 1 - keep_prob`.\n",
            "WARNING:tensorflow:From /usr/local/lib/python3.6/dist-packages/keras/backend/tensorflow_backend.py:4267: The name tf.nn.max_pool is deprecated. Please use tf.nn.max_pool2d instead.\n",
            "\n"
          ],
          "name": "stdout"
        },
        {
          "output_type": "stream",
          "text": [
            "/usr/local/lib/python3.6/dist-packages/ipykernel_launcher.py:9: UserWarning: Update your `Conv2D` call to the Keras 2 API: `Conv2D(32, (3, 3), activation=\"relu\", kernel_regularizer=<keras.reg...)`\n",
            "  if __name__ == '__main__':\n",
            "/usr/local/lib/python3.6/dist-packages/ipykernel_launcher.py:13: UserWarning: Update your `Conv2D` call to the Keras 2 API: `Conv2D(10, (1, 1), activation=\"relu\", kernel_regularizer=<keras.reg...)`\n",
            "  del sys.path[0]\n",
            "/usr/local/lib/python3.6/dist-packages/ipykernel_launcher.py:17: UserWarning: Update your `Conv2D` call to the Keras 2 API: `Conv2D(16, (3, 3), activation=\"relu\", kernel_regularizer=<keras.reg...)`\n",
            "/usr/local/lib/python3.6/dist-packages/ipykernel_launcher.py:22: UserWarning: Update your `Conv2D` call to the Keras 2 API: `Conv2D(16, (3, 3), activation=\"relu\", kernel_regularizer=<keras.reg...)`\n",
            "/usr/local/lib/python3.6/dist-packages/ipykernel_launcher.py:27: UserWarning: Update your `Conv2D` call to the Keras 2 API: `Conv2D(16, (3, 3), activation=\"relu\", kernel_regularizer=<keras.reg...)`\n",
            "/usr/local/lib/python3.6/dist-packages/ipykernel_launcher.py:32: UserWarning: Update your `Conv2D` call to the Keras 2 API: `Conv2D(16, (3, 3), activation=\"relu\", kernel_regularizer=<keras.reg...)`\n",
            "/usr/local/lib/python3.6/dist-packages/ipykernel_launcher.py:37: UserWarning: Update your `Conv2D` call to the Keras 2 API: `Conv2D(10, (4, 4), kernel_regularizer=<keras.reg...)`\n"
          ],
          "name": "stderr"
        },
        {
          "output_type": "stream",
          "text": [
            "Model: \"sequential_1\"\n",
            "_________________________________________________________________\n",
            "Layer (type)                 Output Shape              Param #   \n",
            "=================================================================\n",
            "conv2d_1 (Conv2D)            (None, 26, 26, 16)        160       \n",
            "_________________________________________________________________\n",
            "batch_normalization_1 (Batch (None, 26, 26, 16)        64        \n",
            "_________________________________________________________________\n",
            "dropout_1 (Dropout)          (None, 26, 26, 16)        0         \n",
            "_________________________________________________________________\n",
            "conv2d_2 (Conv2D)            (None, 24, 24, 32)        4640      \n",
            "_________________________________________________________________\n",
            "batch_normalization_2 (Batch (None, 24, 24, 32)        128       \n",
            "_________________________________________________________________\n",
            "dropout_2 (Dropout)          (None, 24, 24, 32)        0         \n",
            "_________________________________________________________________\n",
            "conv2d_3 (Conv2D)            (None, 24, 24, 10)        330       \n",
            "_________________________________________________________________\n",
            "max_pooling2d_1 (MaxPooling2 (None, 12, 12, 10)        0         \n",
            "_________________________________________________________________\n",
            "conv2d_4 (Conv2D)            (None, 10, 10, 16)        1456      \n",
            "_________________________________________________________________\n",
            "batch_normalization_3 (Batch (None, 10, 10, 16)        64        \n",
            "_________________________________________________________________\n",
            "dropout_3 (Dropout)          (None, 10, 10, 16)        0         \n",
            "_________________________________________________________________\n",
            "conv2d_5 (Conv2D)            (None, 8, 8, 16)          2320      \n",
            "_________________________________________________________________\n",
            "batch_normalization_4 (Batch (None, 8, 8, 16)          64        \n",
            "_________________________________________________________________\n",
            "dropout_4 (Dropout)          (None, 8, 8, 16)          0         \n",
            "_________________________________________________________________\n",
            "conv2d_6 (Conv2D)            (None, 6, 6, 16)          2320      \n",
            "_________________________________________________________________\n",
            "batch_normalization_5 (Batch (None, 6, 6, 16)          64        \n",
            "_________________________________________________________________\n",
            "dropout_5 (Dropout)          (None, 6, 6, 16)          0         \n",
            "_________________________________________________________________\n",
            "conv2d_7 (Conv2D)            (None, 4, 4, 16)          2320      \n",
            "_________________________________________________________________\n",
            "batch_normalization_6 (Batch (None, 4, 4, 16)          64        \n",
            "_________________________________________________________________\n",
            "dropout_6 (Dropout)          (None, 4, 4, 16)          0         \n",
            "_________________________________________________________________\n",
            "conv2d_8 (Conv2D)            (None, 1, 1, 10)          2570      \n",
            "_________________________________________________________________\n",
            "batch_normalization_7 (Batch (None, 1, 1, 10)          40        \n",
            "_________________________________________________________________\n",
            "dropout_7 (Dropout)          (None, 1, 1, 10)          0         \n",
            "_________________________________________________________________\n",
            "flatten_1 (Flatten)          (None, 10)                0         \n",
            "_________________________________________________________________\n",
            "activation_1 (Activation)    (None, 10)                0         \n",
            "=================================================================\n",
            "Total params: 16,604\n",
            "Trainable params: 16,360\n",
            "Non-trainable params: 244\n",
            "_________________________________________________________________\n"
          ],
          "name": "stdout"
        }
      ]
    },
    {
      "cell_type": "code",
      "metadata": {
        "id": "L2IicGJ4x3Be",
        "colab_type": "code",
        "outputId": "d68b82bc-da3b-44f6-d3dc-684069167d95",
        "colab": {
          "base_uri": "https://localhost:8080/",
          "height": 1000
        }
      },
      "source": [
        "from keras.optimizers import Adam\n",
        "from keras.callbacks import LearningRateScheduler\n",
        "\n",
        "def scheduler(epoch, lr):\n",
        "  return round(0.003 * 1/(1 + 0.319 * epoch), 10)\n",
        "\n",
        "model.compile(loss='categorical_crossentropy', optimizer=Adam(lr=0.003), metrics=['accuracy'])\n",
        "modelparams = model.fit_generator(X_train_iterator, steps_per_epoch=len(X_train_iterator), epochs=40, verbose=1, validation_data=(X_test_iterator),validation_steps=len(X_test_iterator), callbacks=[LearningRateScheduler(scheduler, verbose=1)])\n",
        "\n",
        "training_accuracy = modelparams.history['acc']\n",
        "test_accuracy = modelparams.history['val_acc']\n",
        "# Create count of the number of epochs\n",
        "epoch_count = range(1, 41)\n",
        "\n",
        "# Visualize accuracy history\n",
        "plt.plot(epoch_count, training_accuracy, 'r--')\n",
        "plt.plot(epoch_count, test_accuracy, 'b-')\n",
        "plt.legend(['Training Accuracy', 'Test Accuracy'])\n",
        "plt.xlabel('Epoch')\n",
        "plt.ylabel('Accuracy Score')\n",
        "plt.show();\n",
        "\n",
        "# fit model with generator\n",
        "#model.fit_generator(X_train_iterator, steps_per_epoch=len(X_train_iterator), epochs=5)\n",
        "#model.fit(X_train_iterator, batch_size=128, epochs=20, verbose=1, validation_data=(X_test, Y_test), callbacks=[LearningRateScheduler(scheduler, verbose=1)])\n"
      ],
      "execution_count": 12,
      "outputs": [
        {
          "output_type": "stream",
          "text": [
            "WARNING:tensorflow:From /usr/local/lib/python3.6/dist-packages/keras/optimizers.py:793: The name tf.train.Optimizer is deprecated. Please use tf.compat.v1.train.Optimizer instead.\n",
            "\n",
            "WARNING:tensorflow:From /usr/local/lib/python3.6/dist-packages/keras/backend/tensorflow_backend.py:3576: The name tf.log is deprecated. Please use tf.math.log instead.\n",
            "\n",
            "WARNING:tensorflow:From /usr/local/lib/python3.6/dist-packages/tensorflow_core/python/ops/math_grad.py:1424: where (from tensorflow.python.ops.array_ops) is deprecated and will be removed in a future version.\n",
            "Instructions for updating:\n",
            "Use tf.where in 2.0, which has the same broadcast rule as np.where\n",
            "WARNING:tensorflow:From /usr/local/lib/python3.6/dist-packages/keras/backend/tensorflow_backend.py:1033: The name tf.assign_add is deprecated. Please use tf.compat.v1.assign_add instead.\n",
            "\n",
            "WARNING:tensorflow:From /usr/local/lib/python3.6/dist-packages/keras/backend/tensorflow_backend.py:1020: The name tf.assign is deprecated. Please use tf.compat.v1.assign instead.\n",
            "\n",
            "Epoch 1/40\n",
            "\n",
            "Epoch 00001: LearningRateScheduler setting learning rate to 0.003.\n",
            "938/938 [==============================] - 25s 27ms/step - loss: 0.6161 - acc: 0.8069 - val_loss: 0.1955 - val_acc: 0.9444\n",
            "Epoch 2/40\n",
            "\n",
            "Epoch 00002: LearningRateScheduler setting learning rate to 0.0022744503.\n",
            "938/938 [==============================] - 17s 18ms/step - loss: 0.3704 - acc: 0.8768 - val_loss: 0.1601 - val_acc: 0.9546\n",
            "Epoch 3/40\n",
            "\n",
            "Epoch 00003: LearningRateScheduler setting learning rate to 0.0018315018.\n",
            "938/938 [==============================] - 17s 18ms/step - loss: 0.3244 - acc: 0.8934 - val_loss: 0.1347 - val_acc: 0.9603\n",
            "Epoch 4/40\n",
            "\n",
            "Epoch 00004: LearningRateScheduler setting learning rate to 0.0015329586.\n",
            "938/938 [==============================] - 17s 18ms/step - loss: 0.2876 - acc: 0.9061 - val_loss: 0.1218 - val_acc: 0.9635\n",
            "Epoch 5/40\n",
            "\n",
            "Epoch 00005: LearningRateScheduler setting learning rate to 0.0013181019.\n",
            "938/938 [==============================] - 17s 18ms/step - loss: 0.2695 - acc: 0.9089 - val_loss: 0.1324 - val_acc: 0.9605\n",
            "Epoch 6/40\n",
            "\n",
            "Epoch 00006: LearningRateScheduler setting learning rate to 0.0011560694.\n",
            "938/938 [==============================] - 17s 18ms/step - loss: 0.2577 - acc: 0.9132 - val_loss: 0.0935 - val_acc: 0.9742\n",
            "Epoch 7/40\n",
            "\n",
            "Epoch 00007: LearningRateScheduler setting learning rate to 0.0010295127.\n",
            "938/938 [==============================] - 17s 18ms/step - loss: 0.2421 - acc: 0.9184 - val_loss: 0.0885 - val_acc: 0.9739\n",
            "Epoch 8/40\n",
            "\n",
            "Epoch 00008: LearningRateScheduler setting learning rate to 0.0009279307.\n",
            "938/938 [==============================] - 18s 19ms/step - loss: 0.2447 - acc: 0.9158 - val_loss: 0.0865 - val_acc: 0.9740\n",
            "Epoch 9/40\n",
            "\n",
            "Epoch 00009: LearningRateScheduler setting learning rate to 0.0008445946.\n",
            "938/938 [==============================] - 17s 18ms/step - loss: 0.2316 - acc: 0.9200 - val_loss: 0.0881 - val_acc: 0.9728\n",
            "Epoch 10/40\n",
            "\n",
            "Epoch 00010: LearningRateScheduler setting learning rate to 0.0007749935.\n",
            "938/938 [==============================] - 17s 18ms/step - loss: 0.2318 - acc: 0.9208 - val_loss: 0.0852 - val_acc: 0.9753\n",
            "Epoch 11/40\n",
            "\n",
            "Epoch 00011: LearningRateScheduler setting learning rate to 0.0007159905.\n",
            "938/938 [==============================] - 17s 18ms/step - loss: 0.2184 - acc: 0.9224 - val_loss: 0.0820 - val_acc: 0.9748\n",
            "Epoch 12/40\n",
            "\n",
            "Epoch 00012: LearningRateScheduler setting learning rate to 0.000665336.\n",
            "938/938 [==============================] - 17s 18ms/step - loss: 0.2236 - acc: 0.9215 - val_loss: 0.0804 - val_acc: 0.9760\n",
            "Epoch 13/40\n",
            "\n",
            "Epoch 00013: LearningRateScheduler setting learning rate to 0.0006213753.\n",
            "938/938 [==============================] - 17s 18ms/step - loss: 0.2190 - acc: 0.9238 - val_loss: 0.0782 - val_acc: 0.9749\n",
            "Epoch 14/40\n",
            "\n",
            "Epoch 00014: LearningRateScheduler setting learning rate to 0.0005828638.\n",
            "938/938 [==============================] - 17s 18ms/step - loss: 0.2089 - acc: 0.9260 - val_loss: 0.0823 - val_acc: 0.9750\n",
            "Epoch 15/40\n",
            "\n",
            "Epoch 00015: LearningRateScheduler setting learning rate to 0.0005488474.\n",
            "938/938 [==============================] - 17s 19ms/step - loss: 0.2137 - acc: 0.9252 - val_loss: 0.0781 - val_acc: 0.9745\n",
            "Epoch 16/40\n",
            "\n",
            "Epoch 00016: LearningRateScheduler setting learning rate to 0.0005185825.\n",
            "938/938 [==============================] - 17s 18ms/step - loss: 0.2144 - acc: 0.9260 - val_loss: 0.0800 - val_acc: 0.9761\n",
            "Epoch 17/40\n",
            "\n",
            "Epoch 00017: LearningRateScheduler setting learning rate to 0.000491481.\n",
            "938/938 [==============================] - 18s 19ms/step - loss: 0.2050 - acc: 0.9285 - val_loss: 0.0763 - val_acc: 0.9756\n",
            "Epoch 18/40\n",
            "\n",
            "Epoch 00018: LearningRateScheduler setting learning rate to 0.0004670715.\n",
            "938/938 [==============================] - 17s 18ms/step - loss: 0.2089 - acc: 0.9257 - val_loss: 0.0767 - val_acc: 0.9748\n",
            "Epoch 19/40\n",
            "\n",
            "Epoch 00019: LearningRateScheduler setting learning rate to 0.0004449718.\n",
            "938/938 [==============================] - 17s 18ms/step - loss: 0.2013 - acc: 0.9281 - val_loss: 0.0754 - val_acc: 0.9777\n",
            "Epoch 20/40\n",
            "\n",
            "Epoch 00020: LearningRateScheduler setting learning rate to 0.000424869.\n",
            "938/938 [==============================] - 17s 18ms/step - loss: 0.2023 - acc: 0.9285 - val_loss: 0.0737 - val_acc: 0.9775\n",
            "Epoch 21/40\n",
            "\n",
            "Epoch 00021: LearningRateScheduler setting learning rate to 0.0004065041.\n",
            "938/938 [==============================] - 17s 18ms/step - loss: 0.2068 - acc: 0.9279 - val_loss: 0.0697 - val_acc: 0.9797\n",
            "Epoch 22/40\n",
            "\n",
            "Epoch 00022: LearningRateScheduler setting learning rate to 0.000389661.\n",
            "938/938 [==============================] - 17s 19ms/step - loss: 0.2039 - acc: 0.9269 - val_loss: 0.0707 - val_acc: 0.9776\n",
            "Epoch 23/40\n",
            "\n",
            "Epoch 00023: LearningRateScheduler setting learning rate to 0.0003741581.\n",
            "938/938 [==============================] - 17s 18ms/step - loss: 0.2012 - acc: 0.9279 - val_loss: 0.0668 - val_acc: 0.9797\n",
            "Epoch 24/40\n",
            "\n",
            "Epoch 00024: LearningRateScheduler setting learning rate to 0.0003598417.\n",
            "938/938 [==============================] - 17s 18ms/step - loss: 0.1986 - acc: 0.9286 - val_loss: 0.0738 - val_acc: 0.9766\n",
            "Epoch 25/40\n",
            "\n",
            "Epoch 00025: LearningRateScheduler setting learning rate to 0.0003465804.\n",
            "938/938 [==============================] - 17s 18ms/step - loss: 0.1988 - acc: 0.9278 - val_loss: 0.0781 - val_acc: 0.9746\n",
            "Epoch 26/40\n",
            "\n",
            "Epoch 00026: LearningRateScheduler setting learning rate to 0.0003342618.\n",
            "938/938 [==============================] - 17s 18ms/step - loss: 0.1991 - acc: 0.9279 - val_loss: 0.0780 - val_acc: 0.9775\n",
            "Epoch 27/40\n",
            "\n",
            "Epoch 00027: LearningRateScheduler setting learning rate to 0.0003227889.\n",
            "938/938 [==============================] - 17s 18ms/step - loss: 0.1987 - acc: 0.9298 - val_loss: 0.0760 - val_acc: 0.9760\n",
            "Epoch 28/40\n",
            "\n",
            "Epoch 00028: LearningRateScheduler setting learning rate to 0.0003120774.\n",
            "938/938 [==============================] - 17s 18ms/step - loss: 0.1958 - acc: 0.9292 - val_loss: 0.0655 - val_acc: 0.9808\n",
            "Epoch 29/40\n",
            "\n",
            "Epoch 00029: LearningRateScheduler setting learning rate to 0.000302054.\n",
            "938/938 [==============================] - 17s 19ms/step - loss: 0.1919 - acc: 0.9319 - val_loss: 0.0707 - val_acc: 0.9782\n",
            "Epoch 30/40\n",
            "\n",
            "Epoch 00030: LearningRateScheduler setting learning rate to 0.0002926544.\n",
            "938/938 [==============================] - 17s 18ms/step - loss: 0.1910 - acc: 0.9304 - val_loss: 0.0678 - val_acc: 0.9783\n",
            "Epoch 31/40\n",
            "\n",
            "Epoch 00031: LearningRateScheduler setting learning rate to 0.0002838221.\n",
            "938/938 [==============================] - 17s 18ms/step - loss: 0.1915 - acc: 0.9303 - val_loss: 0.0684 - val_acc: 0.9803\n",
            "Epoch 32/40\n",
            "\n",
            "Epoch 00032: LearningRateScheduler setting learning rate to 0.0002755074.\n",
            "938/938 [==============================] - 17s 18ms/step - loss: 0.1940 - acc: 0.9307 - val_loss: 0.0749 - val_acc: 0.9765\n",
            "Epoch 33/40\n",
            "\n",
            "Epoch 00033: LearningRateScheduler setting learning rate to 0.000267666.\n",
            "938/938 [==============================] - 17s 18ms/step - loss: 0.1918 - acc: 0.9299 - val_loss: 0.0699 - val_acc: 0.9804\n",
            "Epoch 34/40\n",
            "\n",
            "Epoch 00034: LearningRateScheduler setting learning rate to 0.0002602585.\n",
            "938/938 [==============================] - 17s 18ms/step - loss: 0.1931 - acc: 0.9302 - val_loss: 0.0680 - val_acc: 0.9798\n",
            "Epoch 35/40\n",
            "\n",
            "Epoch 00035: LearningRateScheduler setting learning rate to 0.00025325.\n",
            "938/938 [==============================] - 17s 19ms/step - loss: 0.1958 - acc: 0.9306 - val_loss: 0.0687 - val_acc: 0.9789\n",
            "Epoch 36/40\n",
            "\n",
            "Epoch 00036: LearningRateScheduler setting learning rate to 0.0002466091.\n",
            "938/938 [==============================] - 17s 18ms/step - loss: 0.1857 - acc: 0.9332 - val_loss: 0.0667 - val_acc: 0.9803\n",
            "Epoch 37/40\n",
            "\n",
            "Epoch 00037: LearningRateScheduler setting learning rate to 0.0002403076.\n",
            "938/938 [==============================] - 17s 18ms/step - loss: 0.1904 - acc: 0.9313 - val_loss: 0.0643 - val_acc: 0.9814\n",
            "Epoch 38/40\n",
            "\n",
            "Epoch 00038: LearningRateScheduler setting learning rate to 0.0002343201.\n",
            "938/938 [==============================] - 17s 18ms/step - loss: 0.1867 - acc: 0.9323 - val_loss: 0.0831 - val_acc: 0.9757\n",
            "Epoch 39/40\n",
            "\n",
            "Epoch 00039: LearningRateScheduler setting learning rate to 0.0002286237.\n",
            "938/938 [==============================] - 17s 18ms/step - loss: 0.1924 - acc: 0.9310 - val_loss: 0.0674 - val_acc: 0.9812\n",
            "Epoch 40/40\n",
            "\n",
            "Epoch 00040: LearningRateScheduler setting learning rate to 0.0002231977.\n",
            "938/938 [==============================] - 17s 19ms/step - loss: 0.1931 - acc: 0.9289 - val_loss: 0.0679 - val_acc: 0.9795\n"
          ],
          "name": "stdout"
        },
        {
          "output_type": "display_data",
          "data": {
            "image/png": "[encoded data removed]",
            "text/plain": [
              "<Figure size 432x288 with 1 Axes>"
            ]
          },
          "metadata": {
            "tags": []
          }
        }
      ]
    },
    {
      "cell_type": "markdown",
      "metadata": {
        "id": "Zlc8rYfhfgnn",
        "colab_type": "text"
      },
      "source": [
        "Actually L2 regularisation decreased Acuracy from 99.5 to 99.4 for 20 epoch's\n",
        "Putting L2 kernel regulariser as 0.0001 The accuracy does not increase but it converges slowly to 99.5 increased to 99.56 for 40 epoch's. Also increases training set , may be we need to write a rate ,l2 regularisation scheduler for each epoch\n",
        "\n"
      ]
    },
    {
      "cell_type": "code",
      "metadata": {
        "id": "WLxlW9ufyQiO",
        "colab_type": "code",
        "colab": {
          "base_uri": "https://localhost:8080/",
          "height": 35
        },
        "outputId": "3d8a0742-0e81-497a-febc-abb643923616"
      },
      "source": [
        "model.save(\"session.h5py\")\n",
        "score = model.evaluate_generator(X_test_iterator,steps=len(X_test_iterator),verbose=0)\n",
        "print(score)"
      ],
      "execution_count": 13,
      "outputs": [
        {
          "output_type": "stream",
          "text": [
            "[0.06870258680284023, 0.9795]\n"
          ],
          "name": "stdout"
        }
      ]
    },
    {
      "cell_type": "code",
      "metadata": {
        "id": "m2qDl21ozBnW",
        "colab_type": "code",
        "colab": {
          "base_uri": "https://localhost:8080/",
          "height": 350
        },
        "outputId": "1cbcec1c-acf7-4394-c99d-24463fdefaa8"
      },
      "source": [
        "#https://www.datacamp.com/community/tutorials/convolutional-neural-networks-python\n",
        "#Use this for misclassified images\n",
        "predicted_classes = model.predict_generator(X_test_iterator,steps = len(X_test_iterator))\n",
        "print (predicted_classes.shape)\n",
        "# predictions are floating point values,round off the output which will convert the float values into an integer. np.argmax() \n",
        "#to select the index number which has a higher value in a row.\n",
        "#predIdxs = np.argmax(predIdxs, axis=1)\n",
        "#predicted_classes = np.round(predicted_classes)\n",
        "predicted_classes = np.argmax(np.round(predicted_classes),axis=1)\n",
        "test_classes = np.argmax(np.round(Y_test),axis =1)\n",
        "print (predicted_classes.shape,test_classes.shape) #, \n",
        "correct = np.where(predicted_classes==test_classes)[0]\n",
        "#print(correct)\n",
        "print (\"Found %d correct labels\"%len(correct))\n",
        "for i, correct in enumerate(correct[:9]):\n",
        "    plt.subplot(3,3,i+1)\n",
        "    plt.imshow(X_test[correct].reshape(28,28), cmap='gray', interpolation='none')\n",
        "    plt.title(\"Predicted {}, Class {}\".format(predicted_classes[correct], test_classes[correct]))\n",
        "    plt.tight_layout()"
      ],
      "execution_count": 14,
      "outputs": [
        {
          "output_type": "stream",
          "text": [
            "(10000, 10)\n",
            "(10000,) (10000,)\n",
            "Found 1001 correct labels\n"
          ],
          "name": "stdout"
        },
        {
          "output_type": "display_data",
          "data": {
            "image/png": "[encoded data removed]",
            "text/plain": [
              "<Figure size 432x288 with 9 Axes>"
            ]
          },
          "metadata": {
            "tags": []
          }
        }
      ]
    },
    {
      "cell_type": "code",
      "metadata": {
        "id": "wlsbsEvao5Tu",
        "colab_type": "code",
        "colab": {
          "base_uri": "https://localhost:8080/",
          "height": 461
        },
        "outputId": "9a5a9023-5c5b-46f7-9b02-d3572e05bc71"
      },
      "source": [
        "for ilayer, layer in enumerate(model.layers):\n",
        "    print(\"{:3.0f} {:10}\".format(ilayer, layer.name))"
      ],
      "execution_count": 15,
      "outputs": [
        {
          "output_type": "stream",
          "text": [
            "  0 conv2d_1  \n",
            "  1 batch_normalization_1\n",
            "  2 dropout_1 \n",
            "  3 conv2d_2  \n",
            "  4 batch_normalization_2\n",
            "  5 dropout_2 \n",
            "  6 conv2d_3  \n",
            "  7 max_pooling2d_1\n",
            "  8 conv2d_4  \n",
            "  9 batch_normalization_3\n",
            " 10 dropout_3 \n",
            " 11 conv2d_5  \n",
            " 12 batch_normalization_4\n",
            " 13 dropout_4 \n",
            " 14 conv2d_6  \n",
            " 15 batch_normalization_5\n",
            " 16 dropout_5 \n",
            " 17 conv2d_7  \n",
            " 18 batch_normalization_6\n",
            " 19 dropout_6 \n",
            " 20 conv2d_8  \n",
            " 21 batch_normalization_7\n",
            " 22 dropout_7 \n",
            " 23 flatten_1 \n",
            " 24 activation_1\n"
          ],
          "name": "stdout"
        }
      ]
    },
    {
      "cell_type": "code",
      "metadata": {
        "id": "7EMidnnTQOHn",
        "colab_type": "code",
        "colab": {
          "base_uri": "https://localhost:8080/",
          "height": 52
        },
        "outputId": "7cfc25d0-8f36-4820-8fff-26f7bed892bd"
      },
      "source": [
        "classes = np.unique(y_train)\n",
        "nClasses = len(classes)\n",
        "print('Total number of outputs : ', nClasses)\n",
        "print('Output classes : ', classes)\n"
      ],
      "execution_count": 16,
      "outputs": [
        {
          "output_type": "stream",
          "text": [
            "Total number of outputs :  10\n",
            "Output classes :  [0 1 2 3 4 5 6 7 8 9]\n"
          ],
          "name": "stdout"
        }
      ]
    },
    {
      "cell_type": "markdown",
      "metadata": {
        "id": "-53SxTk9Zd7M",
        "colab_type": "text"
      },
      "source": [
        "incorrect = np.where(predicted_classes!=test_classes)[0]\n",
        "print (incorrect.shape)\n",
        "print (\"Found %d incorrect labels\" %len(incorrect))\n",
        "print(size_row)\n",
        "for i, incorrect in enumerate(incorrect[:30]):\n",
        "    plt.subplot(3,10,i+1)\n",
        "    plt.imshow(X_test[incorrect].reshape(28,28), cmap='gray', interpolation='none')\n",
        "    plt.title(\"Predicted {}, Class {}\".format(predicted_classes[incorrect], test_classes[incorrect]))\n",
        "    plt.tight_layout()"
      ]
    },
    {
      "cell_type": "code",
      "metadata": {
        "id": "vXafjB1CdtRw",
        "colab_type": "code",
        "colab": {
          "base_uri": "https://localhost:8080/",
          "height": 88
        },
        "outputId": "eb38268e-e852-4d48-f39d-e7f3518879e6"
      },
      "source": [
        "#img               = img_to_array(_img)\n",
        "#img               = preprocess_input(img)\n",
        "classlabel  = [\"0\",\"1\",\"2\",\"3\",\"4\",\"5\",\"6\",\"7\",\"8\",\"9\"]\n",
        "#4 images\n",
        "y_pred_1            = model.predict(X_gradcam_image_1[np.newaxis,...])\n",
        "class_idxs_sorted_1 = np.argsort(y_pred_1.flatten())[::-1]\n",
        "topNclass         = 1\n",
        "for i, idx in enumerate(class_idxs_sorted_1[:topNclass]):\n",
        "    print(\"Top {} predicted class:     Pr(Class={:18} [index={}])={:5.3f}\".format(\n",
        "          i + 1,classlabel[idx],idx,y_pred_1[0,idx]))\n",
        "\n",
        "y_pred_2            = model.predict(X_gradcam_image_2[np.newaxis,...])\n",
        "class_idxs_sorted_2 = np.argsort(y_pred_2.flatten())[::-1]\n",
        "topNclass         = 1\n",
        "for i, idx in enumerate(class_idxs_sorted_2[:topNclass]):\n",
        "    print(\"Top {} predicted class:     Pr(Class={:18} [index={}])={:5.3f}\".format(\n",
        "          i + 1,classlabel[idx],idx,y_pred_2[0,idx]))\n",
        "\n",
        "y_pred_3            = model.predict(X_gradcam_image_3[np.newaxis,...])\n",
        "class_idxs_sorted_3 = np.argsort(y_pred_3.flatten())[::-1]\n",
        "topNclass         = 1\n",
        "for i, idx in enumerate(class_idxs_sorted_3[:topNclass]):\n",
        "    print(\"Top {} predicted class:     Pr(Class={:18} [index={}])={:5.3f}\".format(\n",
        "          i + 1,classlabel[idx],idx,y_pred_3[0,idx]))\n",
        "\n",
        "y_pred_4            = model.predict(X_gradcam_image_4[np.newaxis,...])\n",
        "class_idxs_sorted_4 = np.argsort(y_pred_4.flatten())[::-1]\n",
        "topNclass         = 1\n",
        "for i, idx in enumerate(class_idxs_sorted_4[:topNclass]):\n",
        "    print(\"Top {} predicted class:     Pr(Class={:18} [index={}])={:5.3f}\".format(\n",
        "          i + 1,classlabel[idx],idx,y_pred_4[0,idx]))\n"
      ],
      "execution_count": 17,
      "outputs": [
        {
          "output_type": "stream",
          "text": [
            "Top 1 predicted class:     Pr(Class=2                  [index=2])=0.961\n",
            "Top 1 predicted class:     Pr(Class=2                  [index=2])=1.000\n",
            "Top 1 predicted class:     Pr(Class=4                  [index=4])=1.000\n",
            "Top 1 predicted class:     Pr(Class=8                  [index=8])=1.000\n"
          ],
          "name": "stdout"
        }
      ]
    },
    {
      "cell_type": "code",
      "metadata": {
        "id": "2jyJ33TXjS7S",
        "colab_type": "code",
        "colab": {}
      },
      "source": [
        "from vis.utils import utils\n",
        "import keras\n",
        "# Utility to search for layer index by name. \n",
        "# Alternatively we can specify this as -1 since it corresponds to the last layer.\n",
        "layer_idx = utils.find_layer_idx(model, 'activation_1')\n",
        "# Swap softmax with linear\n",
        "model.layers[layer_idx].activation = keras.activations.linear\n",
        "model = utils.apply_modifications(model)"
      ],
      "execution_count": 0,
      "outputs": []
    },
    {
      "cell_type": "code",
      "metadata": {
        "id": "J1deVOI_d1v-",
        "colab_type": "code",
        "colab": {}
      },
      "source": [
        "from skimage.transform import resize\n",
        "from vis.visualization import visualize_cam\n",
        "\n",
        "penultimate_layer_idx = utils.find_layer_idx(model, \"conv2d_5\") \n",
        "class_idx_1  = class_idxs_sorted_1[0]\n",
        "class_idx_2  = class_idxs_sorted_2[0]\n",
        "class_idx_3  = class_idxs_sorted_3[0]\n",
        "class_idx_4  = class_idxs_sorted_4[0]\n",
        "seed_input_1 = X_gradcam_image_1\n",
        "seed_input_2 = X_gradcam_image_2\n",
        "seed_input_3 = X_gradcam_image_3\n",
        "seed_input_4 = X_gradcam_image_4\n",
        "grad_top1  = visualize_cam(model, layer_idx, class_idx_1, seed_input_1, \n",
        "                           penultimate_layer_idx = penultimate_layer_idx,#None,\n",
        "                           backprop_modifier     = None,\n",
        "                           grad_modifier         = None)\n",
        "grad_top2  = visualize_cam(model, layer_idx, class_idx_2, seed_input_2, \n",
        "                           penultimate_layer_idx = penultimate_layer_idx,#None,\n",
        "                           backprop_modifier     = None,\n",
        "                           grad_modifier         = None)\n",
        "grad_top3  = visualize_cam(model, layer_idx, class_idx_3, seed_input_3, \n",
        "                           penultimate_layer_idx = penultimate_layer_idx,#None,\n",
        "                           backprop_modifier     = None,\n",
        "                           grad_modifier         = None)\n",
        "grad_top4  = visualize_cam(model, layer_idx, class_idx_4, seed_input_4, \n",
        "                           penultimate_layer_idx = penultimate_layer_idx,#None,\n",
        "                           backprop_modifier     = None,\n",
        "                           grad_modifier         = None)"
      ],
      "execution_count": 0,
      "outputs": []
    },
    {
      "cell_type": "markdown",
      "metadata": {
        "id": "rvWCo4GUrFsd",
        "colab_type": "text"
      },
      "source": [
        "WIthout Cutout using Gradcam"
      ]
    },
    {
      "cell_type": "code",
      "metadata": {
        "id": "b2vKS5-AkH1Q",
        "colab_type": "code",
        "colab": {
          "base_uri": "https://localhost:8080/",
          "height": 1000
        },
        "outputId": "c8f99582-c8ca-4be0-ca18-98d833f99691"
      },
      "source": [
        "def plot_map(grads,_img,class_idx,y_pred):\n",
        "    fig, axes = plt.subplots(1,2,figsize=(14,5))\n",
        "    axes[0].imshow(_img)\n",
        "    axes[1].imshow(_img)\n",
        "    i = axes[1].imshow(grads,cmap=\"jet\",alpha=0.8)\n",
        "    fig.colorbar(i)\n",
        "    plt.suptitle(\"Pr(class={}) = {:5.2f}\".format(\n",
        "                      classlabel[class_idx],\n",
        "                      y_pred[0,class_idx]))\n",
        "plot_map(grad_top1,X_gradcam_image_1[:,:,0],class_idx_1,y_pred_1)\n",
        "plot_map(grad_top2,X_gradcam_image_2[:,:,0],class_idx_2,y_pred_2)\n",
        "plot_map(grad_top3,X_gradcam_image_3[:,:,0],class_idx_3,y_pred_3)\n",
        "plot_map(grad_top4,X_gradcam_image_4[:,:,0],class_idx_4,y_pred_4)"
      ],
      "execution_count": 33,
      "outputs": [
        {
          "output_type": "display_data",
          "data": {
            "image/png": "[encoded data removed]",
            "text/plain": [
              "<Figure size 1008x360 with 3 Axes>"
            ]
          },
          "metadata": {
            "tags": []
          }
        },
        {
          "output_type": "display_data",
          "data": {
            "image/png": "[encoded data removed]",
            "text/plain": [
              "<Figure size 1008x360 with 3 Axes>"
            ]
          },
          "metadata": {
            "tags": []
          }
        },
        {
          "output_type": "display_data",
          "data": {
            "image/png": "[encoded data removed]",
            "text/plain": [
              "<Figure size 1008x360 with 3 Axes>"
            ]
          },
          "metadata": {
            "tags": []
          }
        },
        {
          "output_type": "display_data",
          "data": {
            "image/png": "[encoded data removed]",
            "text/plain": [
              "<Figure size 1008x360 with 3 Axes>"
            ]
          },
          "metadata": {
            "tags": []
          }
        }
      ]
    },
    {
      "cell_type": "markdown",
      "metadata": {
        "id": "EbCgcrAI7Jqd",
        "colab_type": "text"
      },
      "source": [
        "Images with Cutout and GradCam\n",
        "Adding cutout made the heat map more normalize towards the entire image which results in better generalisation of dataset"
      ]
    },
    {
      "cell_type": "code",
      "metadata": {
        "id": "s4kEHnJs7D4R",
        "colab_type": "code",
        "colab": {
          "base_uri": "https://localhost:8080/",
          "height": 1000
        },
        "outputId": "7bfc3bc7-e02c-4ae6-cb64-6a87ec656563"
      },
      "source": [
        "def plot_map(grads,_img,class_idx,y_pred):\n",
        "    fig, axes = plt.subplots(1,2,figsize=(14,5))\n",
        "    axes[0].imshow(_img)\n",
        "    axes[1].imshow(_img)\n",
        "    i = axes[1].imshow(grads,cmap=\"jet\",alpha=0.8)\n",
        "    fig.colorbar(i)\n",
        "    plt.suptitle(\"Pr(class={}) = {:5.2f}\".format(\n",
        "                      classlabel[class_idx],\n",
        "                      y_pred[0,class_idx]))\n",
        "plot_map(grad_top1,X_gradcam_image_1[:,:,0],class_idx_1,y_pred_1)\n",
        "plot_map(grad_top2,X_gradcam_image_2[:,:,0],class_idx_2,y_pred_2)\n",
        "plot_map(grad_top3,X_gradcam_image_3[:,:,0],class_idx_3,y_pred_3)\n",
        "plot_map(grad_top4,X_gradcam_image_4[:,:,0],class_idx_4,y_pred_4)"
      ],
      "execution_count": 21,
      "outputs": [
        {
          "output_type": "display_data",
          "data": {
            "image/png": "[encoded data removed]",
            "text/plain": [
              "<Figure size 1008x360 with 3 Axes>"
            ]
          },
          "metadata": {
            "tags": []
          }
        },
        {
          "output_type": "display_data",
          "data": {
            "image/png": "[encoded data removed]",
            "text/plain": [
              "<Figure size 1008x360 with 3 Axes>"
            ]
          },
          "metadata": {
            "tags": []
          }
        },
        {
          "output_type": "display_data",
          "data": {
            "image/png": "[encoded data removed]",
            "text/plain": [
              "<Figure size 1008x360 with 3 Axes>"
            ]
          },
          "metadata": {
            "tags": []
          }
        },
        {
          "output_type": "display_data",
          "data": {
            "image/png": "[encoded data removed]",
            "text/plain": [
              "<Figure size 1008x360 with 3 Axes>"
            ]
          },
          "metadata": {
            "tags": []
          }
        }
      ]
    }
  ]
}